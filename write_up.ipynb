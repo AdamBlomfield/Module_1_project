{
 "cells": [
  {
   "cell_type": "markdown",
   "metadata": {},
   "source": [
    "# Table of Contents:\n",
    "\n",
    "- [Importing Libraries and Data](#Importing)\n",
    "\n",
    "\n",
    "- [Data Exploration:](#Exploration)\n",
    "    - [Checking Normal Distribution of Data](#distribution-check)\n",
    "    - Describe shape, describe, etc.....\n",
    "    - [Summary of Findings](#exploration-summary)\n",
    "    \n",
    "    \n",
    "- [Data Cleaning:](#Cleaning)\n",
    "    - [Checking for Duplicates:](#duplicates) \n",
    "    - [Coverting Datatypes:](#Converting-Datatypes)\n",
    "        - [Date to Datetime Format](#convert_datetime)\n",
    "    - [Dealing With Missing and Extraneous Values:](#Missing) \n",
    "       - ['yr_renovated'](#cleaning_yr_renovated)\n",
    "       - ['sqft_basement'](#cleaning_sqft_basement)\n",
    "    - [Dummy Coding Categorical Variables:](#Dummy-Coding)\n",
    "        - ['Zip Code'](#Dummy-Zip)\n",
    "        - ['Waterfront'](#dummy_waterfront)\n",
    "\n",
    "\n",
    "- [Model Decisions:](#model-decisions) \n",
    "    - [Correlation Matrices](#corr-matrices) \n",
    "    - [Checking for Linear Assumptions:](#linear-assumption) \n",
    "  \n",
    "\n",
    "- [Training and Testing Our MultiLinear Regression Model:](#train-test-mlr)\n",
    "    - [Model 1](#model-1)\n",
    "    - [Model 2](#model-2) \n",
    "\n",
    "\n",
    "- [Summary of Findings:](#conclusion)\n",
    "    "
   ]
  },
  {
   "cell_type": "markdown",
   "metadata": {},
   "source": [
    "<a id=\"Importing\"></a>\n",
    "# Importing Libraries and Data:"
   ]
  },
  {
   "cell_type": "code",
   "execution_count": 1,
   "metadata": {},
   "outputs": [],
   "source": [
    "import pandas as pd\n",
    "import numpy as np\n",
    "import matplotlib.pyplot as plt\n",
    "%matplotlib inline\n",
    "import seaborn as sns\n",
    "import statsmodels.api as sm\n",
    "\n",
    "from sklearn.model_selection import train_test_split\n",
    "from sklearn.metrics import mean_squared_error\n",
    "from sklearn.linear_model import LinearRegression\n",
    "linreg = LinearRegression()\n",
    "\n",
    "import warnings\n",
    "warnings.filterwarnings('ignore')\n",
    "\n",
    "df = pd.read_csv('kc_house_data.csv')\n",
    "# df = pd.read_csv('https://raw.githubusercontent.com/learn-co-students/dsc-v2-mod1-final-project-dc-ds-career-042219/master/kc_house_data.csv')"
   ]
  },
  {
   "cell_type": "markdown",
   "metadata": {},
   "source": [
    "<a id=\"Exploration\"></a>\n",
    "# Initial Data Exploration:"
   ]
  },
  {
   "cell_type": "markdown",
   "metadata": {},
   "source": [
    "<a id=\"exploration-summary\"></a>\n",
    "## Summary of Initial Exploratory Findings:"
   ]
  },
  {
   "cell_type": "markdown",
   "metadata": {},
   "source": [
    "#### Distribution:\n",
    "\n",
    "* Histogram of 'price' shows only a few outliers beyond $1 Million. \n",
    "    * Accounts for only 6.75% of dataset, \n",
    "    * Decision to drop these outliers from final dataset, used by our model\n",
    "* 'Bedrooms' has an unlikely maximum of 33 units.  \n",
    "* 'sqft_lot' has an unlikely maximum of 1.65 Million sqft\n",
    "* 'yr_renovated' seems to have limited data\n",
    "\n",
    "\n",
    "#### Wrongly Formatted:\n",
    "* 'sqft_basement' needs to be in integer or float format\n",
    "* 'date' needs to be in datetime format\n",
    "\n",
    "#### NaN Values\n",
    "* 'waterfront', 'view' and 'yr_renovated' have NaN values\n",
    "\n",
    "#### Duplicate Entries\n",
    "* The properties that were entered twice have been kept in\n",
    "    * No rows are exactly the same, majority are 6 month turnaround with jump in price\n",
    "    * Our best guess is the first entry was an undervaluation caused by foreclosure\n",
    "    * Keeping both entries will average out each other"
   ]
  },
  {
   "cell_type": "code",
   "execution_count": 2,
   "metadata": {
    "collapsed": true
   },
   "outputs": [
    {
     "data": {
      "text/plain": [
       "(21597, 21)"
      ]
     },
     "execution_count": 2,
     "metadata": {},
     "output_type": "execute_result"
    }
   ],
   "source": [
    "df.shape"
   ]
  },
  {
   "cell_type": "code",
   "execution_count": 3,
   "metadata": {
    "collapsed": true
   },
   "outputs": [
    {
     "data": {
      "text/plain": [
       "Index(['id', 'date', 'price', 'bedrooms', 'bathrooms', 'sqft_living',\n",
       "       'sqft_lot', 'floors', 'waterfront', 'view', 'condition', 'grade',\n",
       "       'sqft_above', 'sqft_basement', 'yr_built', 'yr_renovated', 'zipcode',\n",
       "       'lat', 'long', 'sqft_living15', 'sqft_lot15'],\n",
       "      dtype='object')"
      ]
     },
     "execution_count": 3,
     "metadata": {},
     "output_type": "execute_result"
    }
   ],
   "source": [
    "df.columns"
   ]
  },
  {
   "cell_type": "code",
   "execution_count": 4,
   "metadata": {
    "collapsed": true
   },
   "outputs": [
    {
     "data": {
      "text/html": [
       "<div>\n",
       "<style scoped>\n",
       "    .dataframe tbody tr th:only-of-type {\n",
       "        vertical-align: middle;\n",
       "    }\n",
       "\n",
       "    .dataframe tbody tr th {\n",
       "        vertical-align: top;\n",
       "    }\n",
       "\n",
       "    .dataframe thead th {\n",
       "        text-align: right;\n",
       "    }\n",
       "</style>\n",
       "<table border=\"1\" class=\"dataframe\">\n",
       "  <thead>\n",
       "    <tr style=\"text-align: right;\">\n",
       "      <th></th>\n",
       "      <th>0</th>\n",
       "      <th>1</th>\n",
       "      <th>2</th>\n",
       "      <th>3</th>\n",
       "      <th>4</th>\n",
       "    </tr>\n",
       "  </thead>\n",
       "  <tbody>\n",
       "    <tr>\n",
       "      <th>id</th>\n",
       "      <td>7129300520</td>\n",
       "      <td>6414100192</td>\n",
       "      <td>5631500400</td>\n",
       "      <td>2487200875</td>\n",
       "      <td>1954400510</td>\n",
       "    </tr>\n",
       "    <tr>\n",
       "      <th>date</th>\n",
       "      <td>10/13/2014</td>\n",
       "      <td>12/9/2014</td>\n",
       "      <td>2/25/2015</td>\n",
       "      <td>12/9/2014</td>\n",
       "      <td>2/18/2015</td>\n",
       "    </tr>\n",
       "    <tr>\n",
       "      <th>price</th>\n",
       "      <td>221900</td>\n",
       "      <td>538000</td>\n",
       "      <td>180000</td>\n",
       "      <td>604000</td>\n",
       "      <td>510000</td>\n",
       "    </tr>\n",
       "    <tr>\n",
       "      <th>bedrooms</th>\n",
       "      <td>3</td>\n",
       "      <td>3</td>\n",
       "      <td>2</td>\n",
       "      <td>4</td>\n",
       "      <td>3</td>\n",
       "    </tr>\n",
       "    <tr>\n",
       "      <th>bathrooms</th>\n",
       "      <td>1</td>\n",
       "      <td>2.25</td>\n",
       "      <td>1</td>\n",
       "      <td>3</td>\n",
       "      <td>2</td>\n",
       "    </tr>\n",
       "    <tr>\n",
       "      <th>sqft_living</th>\n",
       "      <td>1180</td>\n",
       "      <td>2570</td>\n",
       "      <td>770</td>\n",
       "      <td>1960</td>\n",
       "      <td>1680</td>\n",
       "    </tr>\n",
       "    <tr>\n",
       "      <th>sqft_lot</th>\n",
       "      <td>5650</td>\n",
       "      <td>7242</td>\n",
       "      <td>10000</td>\n",
       "      <td>5000</td>\n",
       "      <td>8080</td>\n",
       "    </tr>\n",
       "    <tr>\n",
       "      <th>floors</th>\n",
       "      <td>1</td>\n",
       "      <td>2</td>\n",
       "      <td>1</td>\n",
       "      <td>1</td>\n",
       "      <td>1</td>\n",
       "    </tr>\n",
       "    <tr>\n",
       "      <th>waterfront</th>\n",
       "      <td>NaN</td>\n",
       "      <td>0</td>\n",
       "      <td>0</td>\n",
       "      <td>0</td>\n",
       "      <td>0</td>\n",
       "    </tr>\n",
       "    <tr>\n",
       "      <th>view</th>\n",
       "      <td>0</td>\n",
       "      <td>0</td>\n",
       "      <td>0</td>\n",
       "      <td>0</td>\n",
       "      <td>0</td>\n",
       "    </tr>\n",
       "    <tr>\n",
       "      <th>condition</th>\n",
       "      <td>3</td>\n",
       "      <td>3</td>\n",
       "      <td>3</td>\n",
       "      <td>5</td>\n",
       "      <td>3</td>\n",
       "    </tr>\n",
       "    <tr>\n",
       "      <th>grade</th>\n",
       "      <td>7</td>\n",
       "      <td>7</td>\n",
       "      <td>6</td>\n",
       "      <td>7</td>\n",
       "      <td>8</td>\n",
       "    </tr>\n",
       "    <tr>\n",
       "      <th>sqft_above</th>\n",
       "      <td>1180</td>\n",
       "      <td>2170</td>\n",
       "      <td>770</td>\n",
       "      <td>1050</td>\n",
       "      <td>1680</td>\n",
       "    </tr>\n",
       "    <tr>\n",
       "      <th>sqft_basement</th>\n",
       "      <td>0.0</td>\n",
       "      <td>400.0</td>\n",
       "      <td>0.0</td>\n",
       "      <td>910.0</td>\n",
       "      <td>0.0</td>\n",
       "    </tr>\n",
       "    <tr>\n",
       "      <th>yr_built</th>\n",
       "      <td>1955</td>\n",
       "      <td>1951</td>\n",
       "      <td>1933</td>\n",
       "      <td>1965</td>\n",
       "      <td>1987</td>\n",
       "    </tr>\n",
       "    <tr>\n",
       "      <th>yr_renovated</th>\n",
       "      <td>0</td>\n",
       "      <td>1991</td>\n",
       "      <td>NaN</td>\n",
       "      <td>0</td>\n",
       "      <td>0</td>\n",
       "    </tr>\n",
       "    <tr>\n",
       "      <th>zipcode</th>\n",
       "      <td>98178</td>\n",
       "      <td>98125</td>\n",
       "      <td>98028</td>\n",
       "      <td>98136</td>\n",
       "      <td>98074</td>\n",
       "    </tr>\n",
       "    <tr>\n",
       "      <th>lat</th>\n",
       "      <td>47.5112</td>\n",
       "      <td>47.721</td>\n",
       "      <td>47.7379</td>\n",
       "      <td>47.5208</td>\n",
       "      <td>47.6168</td>\n",
       "    </tr>\n",
       "    <tr>\n",
       "      <th>long</th>\n",
       "      <td>-122.257</td>\n",
       "      <td>-122.319</td>\n",
       "      <td>-122.233</td>\n",
       "      <td>-122.393</td>\n",
       "      <td>-122.045</td>\n",
       "    </tr>\n",
       "    <tr>\n",
       "      <th>sqft_living15</th>\n",
       "      <td>1340</td>\n",
       "      <td>1690</td>\n",
       "      <td>2720</td>\n",
       "      <td>1360</td>\n",
       "      <td>1800</td>\n",
       "    </tr>\n",
       "    <tr>\n",
       "      <th>sqft_lot15</th>\n",
       "      <td>5650</td>\n",
       "      <td>7639</td>\n",
       "      <td>8062</td>\n",
       "      <td>5000</td>\n",
       "      <td>7503</td>\n",
       "    </tr>\n",
       "  </tbody>\n",
       "</table>\n",
       "</div>"
      ],
      "text/plain": [
       "                        0           1           2           3           4\n",
       "id             7129300520  6414100192  5631500400  2487200875  1954400510\n",
       "date           10/13/2014   12/9/2014   2/25/2015   12/9/2014   2/18/2015\n",
       "price              221900      538000      180000      604000      510000\n",
       "bedrooms                3           3           2           4           3\n",
       "bathrooms               1        2.25           1           3           2\n",
       "sqft_living          1180        2570         770        1960        1680\n",
       "sqft_lot             5650        7242       10000        5000        8080\n",
       "floors                  1           2           1           1           1\n",
       "waterfront            NaN           0           0           0           0\n",
       "view                    0           0           0           0           0\n",
       "condition               3           3           3           5           3\n",
       "grade                   7           7           6           7           8\n",
       "sqft_above           1180        2170         770        1050        1680\n",
       "sqft_basement         0.0       400.0         0.0       910.0         0.0\n",
       "yr_built             1955        1951        1933        1965        1987\n",
       "yr_renovated            0        1991         NaN           0           0\n",
       "zipcode             98178       98125       98028       98136       98074\n",
       "lat               47.5112      47.721     47.7379     47.5208     47.6168\n",
       "long             -122.257    -122.319    -122.233    -122.393    -122.045\n",
       "sqft_living15        1340        1690        2720        1360        1800\n",
       "sqft_lot15           5650        7639        8062        5000        7503"
      ]
     },
     "execution_count": 4,
     "metadata": {},
     "output_type": "execute_result"
    }
   ],
   "source": [
    "df.head().T"
   ]
  },
  {
   "cell_type": "code",
   "execution_count": 5,
   "metadata": {
    "collapsed": true
   },
   "outputs": [
    {
     "data": {
      "text/html": [
       "<div>\n",
       "<style scoped>\n",
       "    .dataframe tbody tr th:only-of-type {\n",
       "        vertical-align: middle;\n",
       "    }\n",
       "\n",
       "    .dataframe tbody tr th {\n",
       "        vertical-align: top;\n",
       "    }\n",
       "\n",
       "    .dataframe thead th {\n",
       "        text-align: right;\n",
       "    }\n",
       "</style>\n",
       "<table border=\"1\" class=\"dataframe\">\n",
       "  <thead>\n",
       "    <tr style=\"text-align: right;\">\n",
       "      <th></th>\n",
       "      <th>count</th>\n",
       "      <th>mean</th>\n",
       "      <th>std</th>\n",
       "      <th>min</th>\n",
       "      <th>25%</th>\n",
       "      <th>50%</th>\n",
       "      <th>75%</th>\n",
       "      <th>max</th>\n",
       "    </tr>\n",
       "  </thead>\n",
       "  <tbody>\n",
       "    <tr>\n",
       "      <th>id</th>\n",
       "      <td>21597.0</td>\n",
       "      <td>4.580474e+09</td>\n",
       "      <td>2.876736e+09</td>\n",
       "      <td>1000102.00</td>\n",
       "      <td>2.123049e+09</td>\n",
       "      <td>3.904930e+09</td>\n",
       "      <td>7.308900e+09</td>\n",
       "      <td>9.900000e+09</td>\n",
       "    </tr>\n",
       "    <tr>\n",
       "      <th>price</th>\n",
       "      <td>21597.0</td>\n",
       "      <td>5.402966e+05</td>\n",
       "      <td>3.673681e+05</td>\n",
       "      <td>78000.00</td>\n",
       "      <td>3.220000e+05</td>\n",
       "      <td>4.500000e+05</td>\n",
       "      <td>6.450000e+05</td>\n",
       "      <td>7.700000e+06</td>\n",
       "    </tr>\n",
       "    <tr>\n",
       "      <th>bedrooms</th>\n",
       "      <td>21597.0</td>\n",
       "      <td>3.370000e+00</td>\n",
       "      <td>9.300000e-01</td>\n",
       "      <td>1.00</td>\n",
       "      <td>3.000000e+00</td>\n",
       "      <td>3.000000e+00</td>\n",
       "      <td>4.000000e+00</td>\n",
       "      <td>3.300000e+01</td>\n",
       "    </tr>\n",
       "    <tr>\n",
       "      <th>bathrooms</th>\n",
       "      <td>21597.0</td>\n",
       "      <td>2.120000e+00</td>\n",
       "      <td>7.700000e-01</td>\n",
       "      <td>0.50</td>\n",
       "      <td>1.750000e+00</td>\n",
       "      <td>2.250000e+00</td>\n",
       "      <td>2.500000e+00</td>\n",
       "      <td>8.000000e+00</td>\n",
       "    </tr>\n",
       "    <tr>\n",
       "      <th>sqft_living</th>\n",
       "      <td>21597.0</td>\n",
       "      <td>2.080320e+03</td>\n",
       "      <td>9.181100e+02</td>\n",
       "      <td>370.00</td>\n",
       "      <td>1.430000e+03</td>\n",
       "      <td>1.910000e+03</td>\n",
       "      <td>2.550000e+03</td>\n",
       "      <td>1.354000e+04</td>\n",
       "    </tr>\n",
       "    <tr>\n",
       "      <th>sqft_lot</th>\n",
       "      <td>21597.0</td>\n",
       "      <td>1.509941e+04</td>\n",
       "      <td>4.141264e+04</td>\n",
       "      <td>520.00</td>\n",
       "      <td>5.040000e+03</td>\n",
       "      <td>7.618000e+03</td>\n",
       "      <td>1.068500e+04</td>\n",
       "      <td>1.651359e+06</td>\n",
       "    </tr>\n",
       "    <tr>\n",
       "      <th>floors</th>\n",
       "      <td>21597.0</td>\n",
       "      <td>1.490000e+00</td>\n",
       "      <td>5.400000e-01</td>\n",
       "      <td>1.00</td>\n",
       "      <td>1.000000e+00</td>\n",
       "      <td>1.500000e+00</td>\n",
       "      <td>2.000000e+00</td>\n",
       "      <td>3.500000e+00</td>\n",
       "    </tr>\n",
       "    <tr>\n",
       "      <th>waterfront</th>\n",
       "      <td>19221.0</td>\n",
       "      <td>1.000000e-02</td>\n",
       "      <td>9.000000e-02</td>\n",
       "      <td>0.00</td>\n",
       "      <td>0.000000e+00</td>\n",
       "      <td>0.000000e+00</td>\n",
       "      <td>0.000000e+00</td>\n",
       "      <td>1.000000e+00</td>\n",
       "    </tr>\n",
       "    <tr>\n",
       "      <th>view</th>\n",
       "      <td>21534.0</td>\n",
       "      <td>2.300000e-01</td>\n",
       "      <td>7.700000e-01</td>\n",
       "      <td>0.00</td>\n",
       "      <td>0.000000e+00</td>\n",
       "      <td>0.000000e+00</td>\n",
       "      <td>0.000000e+00</td>\n",
       "      <td>4.000000e+00</td>\n",
       "    </tr>\n",
       "    <tr>\n",
       "      <th>condition</th>\n",
       "      <td>21597.0</td>\n",
       "      <td>3.410000e+00</td>\n",
       "      <td>6.500000e-01</td>\n",
       "      <td>1.00</td>\n",
       "      <td>3.000000e+00</td>\n",
       "      <td>3.000000e+00</td>\n",
       "      <td>4.000000e+00</td>\n",
       "      <td>5.000000e+00</td>\n",
       "    </tr>\n",
       "    <tr>\n",
       "      <th>grade</th>\n",
       "      <td>21597.0</td>\n",
       "      <td>7.660000e+00</td>\n",
       "      <td>1.170000e+00</td>\n",
       "      <td>3.00</td>\n",
       "      <td>7.000000e+00</td>\n",
       "      <td>7.000000e+00</td>\n",
       "      <td>8.000000e+00</td>\n",
       "      <td>1.300000e+01</td>\n",
       "    </tr>\n",
       "    <tr>\n",
       "      <th>sqft_above</th>\n",
       "      <td>21597.0</td>\n",
       "      <td>1.788600e+03</td>\n",
       "      <td>8.277600e+02</td>\n",
       "      <td>370.00</td>\n",
       "      <td>1.190000e+03</td>\n",
       "      <td>1.560000e+03</td>\n",
       "      <td>2.210000e+03</td>\n",
       "      <td>9.410000e+03</td>\n",
       "    </tr>\n",
       "    <tr>\n",
       "      <th>yr_built</th>\n",
       "      <td>21597.0</td>\n",
       "      <td>1.971000e+03</td>\n",
       "      <td>2.938000e+01</td>\n",
       "      <td>1900.00</td>\n",
       "      <td>1.951000e+03</td>\n",
       "      <td>1.975000e+03</td>\n",
       "      <td>1.997000e+03</td>\n",
       "      <td>2.015000e+03</td>\n",
       "    </tr>\n",
       "    <tr>\n",
       "      <th>yr_renovated</th>\n",
       "      <td>17755.0</td>\n",
       "      <td>8.364000e+01</td>\n",
       "      <td>3.999500e+02</td>\n",
       "      <td>0.00</td>\n",
       "      <td>0.000000e+00</td>\n",
       "      <td>0.000000e+00</td>\n",
       "      <td>0.000000e+00</td>\n",
       "      <td>2.015000e+03</td>\n",
       "    </tr>\n",
       "    <tr>\n",
       "      <th>zipcode</th>\n",
       "      <td>21597.0</td>\n",
       "      <td>9.807795e+04</td>\n",
       "      <td>5.351000e+01</td>\n",
       "      <td>98001.00</td>\n",
       "      <td>9.803300e+04</td>\n",
       "      <td>9.806500e+04</td>\n",
       "      <td>9.811800e+04</td>\n",
       "      <td>9.819900e+04</td>\n",
       "    </tr>\n",
       "    <tr>\n",
       "      <th>lat</th>\n",
       "      <td>21597.0</td>\n",
       "      <td>4.756000e+01</td>\n",
       "      <td>1.400000e-01</td>\n",
       "      <td>47.16</td>\n",
       "      <td>4.747000e+01</td>\n",
       "      <td>4.757000e+01</td>\n",
       "      <td>4.768000e+01</td>\n",
       "      <td>4.778000e+01</td>\n",
       "    </tr>\n",
       "    <tr>\n",
       "      <th>long</th>\n",
       "      <td>21597.0</td>\n",
       "      <td>-1.222100e+02</td>\n",
       "      <td>1.400000e-01</td>\n",
       "      <td>-122.52</td>\n",
       "      <td>-1.223300e+02</td>\n",
       "      <td>-1.222300e+02</td>\n",
       "      <td>-1.221200e+02</td>\n",
       "      <td>-1.213200e+02</td>\n",
       "    </tr>\n",
       "    <tr>\n",
       "      <th>sqft_living15</th>\n",
       "      <td>21597.0</td>\n",
       "      <td>1.986620e+03</td>\n",
       "      <td>6.852300e+02</td>\n",
       "      <td>399.00</td>\n",
       "      <td>1.490000e+03</td>\n",
       "      <td>1.840000e+03</td>\n",
       "      <td>2.360000e+03</td>\n",
       "      <td>6.210000e+03</td>\n",
       "    </tr>\n",
       "    <tr>\n",
       "      <th>sqft_lot15</th>\n",
       "      <td>21597.0</td>\n",
       "      <td>1.275828e+04</td>\n",
       "      <td>2.727444e+04</td>\n",
       "      <td>651.00</td>\n",
       "      <td>5.100000e+03</td>\n",
       "      <td>7.620000e+03</td>\n",
       "      <td>1.008300e+04</td>\n",
       "      <td>8.712000e+05</td>\n",
       "    </tr>\n",
       "  </tbody>\n",
       "</table>\n",
       "</div>"
      ],
      "text/plain": [
       "                 count          mean           std         min           25%  \\\n",
       "id             21597.0  4.580474e+09  2.876736e+09  1000102.00  2.123049e+09   \n",
       "price          21597.0  5.402966e+05  3.673681e+05    78000.00  3.220000e+05   \n",
       "bedrooms       21597.0  3.370000e+00  9.300000e-01        1.00  3.000000e+00   \n",
       "bathrooms      21597.0  2.120000e+00  7.700000e-01        0.50  1.750000e+00   \n",
       "sqft_living    21597.0  2.080320e+03  9.181100e+02      370.00  1.430000e+03   \n",
       "sqft_lot       21597.0  1.509941e+04  4.141264e+04      520.00  5.040000e+03   \n",
       "floors         21597.0  1.490000e+00  5.400000e-01        1.00  1.000000e+00   \n",
       "waterfront     19221.0  1.000000e-02  9.000000e-02        0.00  0.000000e+00   \n",
       "view           21534.0  2.300000e-01  7.700000e-01        0.00  0.000000e+00   \n",
       "condition      21597.0  3.410000e+00  6.500000e-01        1.00  3.000000e+00   \n",
       "grade          21597.0  7.660000e+00  1.170000e+00        3.00  7.000000e+00   \n",
       "sqft_above     21597.0  1.788600e+03  8.277600e+02      370.00  1.190000e+03   \n",
       "yr_built       21597.0  1.971000e+03  2.938000e+01     1900.00  1.951000e+03   \n",
       "yr_renovated   17755.0  8.364000e+01  3.999500e+02        0.00  0.000000e+00   \n",
       "zipcode        21597.0  9.807795e+04  5.351000e+01    98001.00  9.803300e+04   \n",
       "lat            21597.0  4.756000e+01  1.400000e-01       47.16  4.747000e+01   \n",
       "long           21597.0 -1.222100e+02  1.400000e-01     -122.52 -1.223300e+02   \n",
       "sqft_living15  21597.0  1.986620e+03  6.852300e+02      399.00  1.490000e+03   \n",
       "sqft_lot15     21597.0  1.275828e+04  2.727444e+04      651.00  5.100000e+03   \n",
       "\n",
       "                        50%           75%           max  \n",
       "id             3.904930e+09  7.308900e+09  9.900000e+09  \n",
       "price          4.500000e+05  6.450000e+05  7.700000e+06  \n",
       "bedrooms       3.000000e+00  4.000000e+00  3.300000e+01  \n",
       "bathrooms      2.250000e+00  2.500000e+00  8.000000e+00  \n",
       "sqft_living    1.910000e+03  2.550000e+03  1.354000e+04  \n",
       "sqft_lot       7.618000e+03  1.068500e+04  1.651359e+06  \n",
       "floors         1.500000e+00  2.000000e+00  3.500000e+00  \n",
       "waterfront     0.000000e+00  0.000000e+00  1.000000e+00  \n",
       "view           0.000000e+00  0.000000e+00  4.000000e+00  \n",
       "condition      3.000000e+00  4.000000e+00  5.000000e+00  \n",
       "grade          7.000000e+00  8.000000e+00  1.300000e+01  \n",
       "sqft_above     1.560000e+03  2.210000e+03  9.410000e+03  \n",
       "yr_built       1.975000e+03  1.997000e+03  2.015000e+03  \n",
       "yr_renovated   0.000000e+00  0.000000e+00  2.015000e+03  \n",
       "zipcode        9.806500e+04  9.811800e+04  9.819900e+04  \n",
       "lat            4.757000e+01  4.768000e+01  4.778000e+01  \n",
       "long          -1.222300e+02 -1.221200e+02 -1.213200e+02  \n",
       "sqft_living15  1.840000e+03  2.360000e+03  6.210000e+03  \n",
       "sqft_lot15     7.620000e+03  1.008300e+04  8.712000e+05  "
      ]
     },
     "execution_count": 5,
     "metadata": {},
     "output_type": "execute_result"
    }
   ],
   "source": [
    "df.describe().round(decimals=2).T"
   ]
  },
  {
   "cell_type": "code",
   "execution_count": 6,
   "metadata": {
    "collapsed": true
   },
   "outputs": [
    {
     "name": "stdout",
     "output_type": "stream",
     "text": [
      "<class 'pandas.core.frame.DataFrame'>\n",
      "RangeIndex: 21597 entries, 0 to 21596\n",
      "Data columns (total 21 columns):\n",
      "id               21597 non-null int64\n",
      "date             21597 non-null object\n",
      "price            21597 non-null float64\n",
      "bedrooms         21597 non-null int64\n",
      "bathrooms        21597 non-null float64\n",
      "sqft_living      21597 non-null int64\n",
      "sqft_lot         21597 non-null int64\n",
      "floors           21597 non-null float64\n",
      "waterfront       19221 non-null float64\n",
      "view             21534 non-null float64\n",
      "condition        21597 non-null int64\n",
      "grade            21597 non-null int64\n",
      "sqft_above       21597 non-null int64\n",
      "sqft_basement    21597 non-null object\n",
      "yr_built         21597 non-null int64\n",
      "yr_renovated     17755 non-null float64\n",
      "zipcode          21597 non-null int64\n",
      "lat              21597 non-null float64\n",
      "long             21597 non-null float64\n",
      "sqft_living15    21597 non-null int64\n",
      "sqft_lot15       21597 non-null int64\n",
      "dtypes: float64(8), int64(11), object(2)\n",
      "memory usage: 3.5+ MB\n"
     ]
    }
   ],
   "source": [
    "df.info()"
   ]
  },
  {
   "cell_type": "markdown",
   "metadata": {},
   "source": [
    "#### Ambiguous Columns: \n",
    "- waterfront = if the property has a view to the waterfront\n",
    "- view = \"has been viewed\" (scale of 0-4, predominately 0)\n",
    "- condition = overall state of condition (1-5)\n",
    "- grade = \"king's grading system\" (only 3-13 shown, might be on a larger range)\n",
    "- sqft_living15/lot15 = sqft of living/lot area of 15 closest neighbors"
   ]
  },
  {
   "cell_type": "markdown",
   "metadata": {},
   "source": [
    "<a id=\"Missing\"></a>\n",
    "## Checking for Missing and Extraneous Values:"
   ]
  },
  {
   "cell_type": "code",
   "execution_count": 20,
   "metadata": {
    "collapsed": true
   },
   "outputs": [
    {
     "data": {
      "text/plain": [
       "5854"
      ]
     },
     "execution_count": 20,
     "metadata": {},
     "output_type": "execute_result"
    }
   ],
   "source": [
    "df_cleaned.isna().sum().sum()\n",
    "#Check first if there is any na values.  we find that there's 6281 na values"
   ]
  },
  {
   "cell_type": "code",
   "execution_count": 21,
   "metadata": {
    "collapsed": true
   },
   "outputs": [
    {
     "data": {
      "text/plain": [
       "yr_renovated     3570\n",
       "waterfront       2227\n",
       "view               57\n",
       "sqft_lot15          0\n",
       "date                0\n",
       "price               0\n",
       "bedrooms            0\n",
       "bathrooms           0\n",
       "sqft_living         0\n",
       "sqft_lot            0\n",
       "floors              0\n",
       "condition           0\n",
       "sqft_living15       0\n",
       "grade               0\n",
       "sqft_above          0\n",
       "sqft_basement       0\n",
       "yr_built            0\n",
       "zipcode             0\n",
       "lat                 0\n",
       "long                0\n",
       "id                  0\n",
       "dtype: int64"
      ]
     },
     "execution_count": 21,
     "metadata": {},
     "output_type": "execute_result"
    }
   ],
   "source": [
    "df_cleaned.isna().sum().sort_values(ascending=False)\n",
    "#We can see from this that the columns for yr_renovated and waterfront have a lot of na values.  view only has some"
   ]
  },
  {
   "cell_type": "markdown",
   "metadata": {},
   "source": [
    "<a id=\"duplicates\"></a>\n",
    "## Checking for Duplicates:"
   ]
  },
  {
   "cell_type": "code",
   "execution_count": 14,
   "metadata": {
    "collapsed": true
   },
   "outputs": [
    {
     "data": {
      "text/plain": [
       "(20107, 21)"
      ]
     },
     "execution_count": 14,
     "metadata": {},
     "output_type": "execute_result"
    }
   ],
   "source": [
    "df_cleaned.shape"
   ]
  },
  {
   "cell_type": "code",
   "execution_count": 85,
   "metadata": {
    "collapsed": true
   },
   "outputs": [
    {
     "data": {
      "text/plain": [
       "id               19938\n",
       "sqft_lot          9126\n",
       "sqft_lot15        8073\n",
       "lat               5010\n",
       "price             3427\n",
       "sqft_living        876\n",
       "sqft_above         820\n",
       "long               749\n",
       "sqft_living15      704\n",
       "date               370\n",
       "sqft_basement      265\n",
       "yr_built           116\n",
       "yr_renovated        70\n",
       "zipcode             70\n",
       "bathrooms           25\n",
       "bedrooms            12\n",
       "grade               10\n",
       "floors               6\n",
       "condition            5\n",
       "view                 5\n",
       "waterfront           3\n",
       "dtype: int64"
      ]
     },
     "execution_count": 85,
     "metadata": {},
     "output_type": "execute_result"
    }
   ],
   "source": [
    "df_cleaned.nunique().sort_values(ascending=False)"
   ]
  },
  {
   "cell_type": "code",
   "execution_count": 16,
   "metadata": {
    "collapsed": true
   },
   "outputs": [
    {
     "data": {
      "text/html": [
       "<div>\n",
       "<style scoped>\n",
       "    .dataframe tbody tr th:only-of-type {\n",
       "        vertical-align: middle;\n",
       "    }\n",
       "\n",
       "    .dataframe tbody tr th {\n",
       "        vertical-align: top;\n",
       "    }\n",
       "\n",
       "    .dataframe thead th {\n",
       "        text-align: right;\n",
       "    }\n",
       "</style>\n",
       "<table border=\"1\" class=\"dataframe\">\n",
       "  <thead>\n",
       "    <tr style=\"text-align: right;\">\n",
       "      <th></th>\n",
       "      <th>id</th>\n",
       "      <th>date</th>\n",
       "      <th>price</th>\n",
       "      <th>bedrooms</th>\n",
       "      <th>bathrooms</th>\n",
       "      <th>sqft_living</th>\n",
       "      <th>sqft_lot</th>\n",
       "      <th>floors</th>\n",
       "      <th>waterfront</th>\n",
       "      <th>view</th>\n",
       "      <th>...</th>\n",
       "      <th>grade</th>\n",
       "      <th>sqft_above</th>\n",
       "      <th>sqft_basement</th>\n",
       "      <th>yr_built</th>\n",
       "      <th>yr_renovated</th>\n",
       "      <th>zipcode</th>\n",
       "      <th>lat</th>\n",
       "      <th>long</th>\n",
       "      <th>sqft_living15</th>\n",
       "      <th>sqft_lot15</th>\n",
       "    </tr>\n",
       "  </thead>\n",
       "  <tbody>\n",
       "  </tbody>\n",
       "</table>\n",
       "<p>0 rows × 21 columns</p>\n",
       "</div>"
      ],
      "text/plain": [
       "Empty DataFrame\n",
       "Columns: [id, date, price, bedrooms, bathrooms, sqft_living, sqft_lot, floors, waterfront, view, condition, grade, sqft_above, sqft_basement, yr_built, yr_renovated, zipcode, lat, long, sqft_living15, sqft_lot15]\n",
       "Index: []\n",
       "\n",
       "[0 rows x 21 columns]"
      ]
     },
     "execution_count": 16,
     "metadata": {},
     "output_type": "execute_result"
    }
   ],
   "source": [
    "df_cleaned[df_cleaned.duplicated()]"
   ]
  },
  {
   "cell_type": "markdown",
   "metadata": {},
   "source": [
    "### - Duplicates of id"
   ]
  },
  {
   "cell_type": "code",
   "execution_count": 17,
   "metadata": {
    "collapsed": true
   },
   "outputs": [
    {
     "data": {
      "text/html": [
       "<div>\n",
       "<style scoped>\n",
       "    .dataframe tbody tr th:only-of-type {\n",
       "        vertical-align: middle;\n",
       "    }\n",
       "\n",
       "    .dataframe tbody tr th {\n",
       "        vertical-align: top;\n",
       "    }\n",
       "\n",
       "    .dataframe thead th {\n",
       "        text-align: right;\n",
       "    }\n",
       "</style>\n",
       "<table border=\"1\" class=\"dataframe\">\n",
       "  <thead>\n",
       "    <tr style=\"text-align: right;\">\n",
       "      <th></th>\n",
       "      <th>id</th>\n",
       "      <th>date</th>\n",
       "      <th>price</th>\n",
       "      <th>bedrooms</th>\n",
       "      <th>bathrooms</th>\n",
       "      <th>sqft_living</th>\n",
       "      <th>sqft_lot</th>\n",
       "      <th>floors</th>\n",
       "      <th>waterfront</th>\n",
       "      <th>view</th>\n",
       "      <th>...</th>\n",
       "      <th>grade</th>\n",
       "      <th>sqft_above</th>\n",
       "      <th>sqft_basement</th>\n",
       "      <th>yr_built</th>\n",
       "      <th>yr_renovated</th>\n",
       "      <th>zipcode</th>\n",
       "      <th>lat</th>\n",
       "      <th>long</th>\n",
       "      <th>sqft_living15</th>\n",
       "      <th>sqft_lot15</th>\n",
       "    </tr>\n",
       "  </thead>\n",
       "  <tbody>\n",
       "    <tr>\n",
       "      <th>93</th>\n",
       "      <td>6021501535</td>\n",
       "      <td>7/25/2014</td>\n",
       "      <td>430000.0</td>\n",
       "      <td>3</td>\n",
       "      <td>1.50</td>\n",
       "      <td>1580</td>\n",
       "      <td>5000</td>\n",
       "      <td>1.0</td>\n",
       "      <td>0.0</td>\n",
       "      <td>0.0</td>\n",
       "      <td>...</td>\n",
       "      <td>8</td>\n",
       "      <td>1290</td>\n",
       "      <td>290.0</td>\n",
       "      <td>1939</td>\n",
       "      <td>0.0</td>\n",
       "      <td>98117</td>\n",
       "      <td>47.6870</td>\n",
       "      <td>-122.386</td>\n",
       "      <td>1570</td>\n",
       "      <td>4500</td>\n",
       "    </tr>\n",
       "    <tr>\n",
       "      <th>94</th>\n",
       "      <td>6021501535</td>\n",
       "      <td>12/23/2014</td>\n",
       "      <td>700000.0</td>\n",
       "      <td>3</td>\n",
       "      <td>1.50</td>\n",
       "      <td>1580</td>\n",
       "      <td>5000</td>\n",
       "      <td>1.0</td>\n",
       "      <td>0.0</td>\n",
       "      <td>0.0</td>\n",
       "      <td>...</td>\n",
       "      <td>8</td>\n",
       "      <td>1290</td>\n",
       "      <td>290.0</td>\n",
       "      <td>1939</td>\n",
       "      <td>0.0</td>\n",
       "      <td>98117</td>\n",
       "      <td>47.6870</td>\n",
       "      <td>-122.386</td>\n",
       "      <td>1570</td>\n",
       "      <td>4500</td>\n",
       "    </tr>\n",
       "    <tr>\n",
       "      <th>324</th>\n",
       "      <td>7520000520</td>\n",
       "      <td>9/5/2014</td>\n",
       "      <td>232000.0</td>\n",
       "      <td>2</td>\n",
       "      <td>1.00</td>\n",
       "      <td>1240</td>\n",
       "      <td>12092</td>\n",
       "      <td>1.0</td>\n",
       "      <td>NaN</td>\n",
       "      <td>0.0</td>\n",
       "      <td>...</td>\n",
       "      <td>6</td>\n",
       "      <td>960</td>\n",
       "      <td>280.0</td>\n",
       "      <td>1922</td>\n",
       "      <td>1984.0</td>\n",
       "      <td>98146</td>\n",
       "      <td>47.4957</td>\n",
       "      <td>-122.352</td>\n",
       "      <td>1820</td>\n",
       "      <td>7460</td>\n",
       "    </tr>\n",
       "    <tr>\n",
       "      <th>325</th>\n",
       "      <td>7520000520</td>\n",
       "      <td>3/11/2015</td>\n",
       "      <td>240500.0</td>\n",
       "      <td>2</td>\n",
       "      <td>1.00</td>\n",
       "      <td>1240</td>\n",
       "      <td>12092</td>\n",
       "      <td>1.0</td>\n",
       "      <td>0.0</td>\n",
       "      <td>0.0</td>\n",
       "      <td>...</td>\n",
       "      <td>6</td>\n",
       "      <td>960</td>\n",
       "      <td>280.0</td>\n",
       "      <td>1922</td>\n",
       "      <td>1984.0</td>\n",
       "      <td>98146</td>\n",
       "      <td>47.4957</td>\n",
       "      <td>-122.352</td>\n",
       "      <td>1820</td>\n",
       "      <td>7460</td>\n",
       "    </tr>\n",
       "    <tr>\n",
       "      <th>345</th>\n",
       "      <td>3969300030</td>\n",
       "      <td>7/23/2014</td>\n",
       "      <td>165000.0</td>\n",
       "      <td>4</td>\n",
       "      <td>1.00</td>\n",
       "      <td>1000</td>\n",
       "      <td>7134</td>\n",
       "      <td>1.0</td>\n",
       "      <td>0.0</td>\n",
       "      <td>0.0</td>\n",
       "      <td>...</td>\n",
       "      <td>6</td>\n",
       "      <td>1000</td>\n",
       "      <td>0.0</td>\n",
       "      <td>1943</td>\n",
       "      <td>0.0</td>\n",
       "      <td>98178</td>\n",
       "      <td>47.4897</td>\n",
       "      <td>-122.240</td>\n",
       "      <td>1020</td>\n",
       "      <td>7138</td>\n",
       "    </tr>\n",
       "    <tr>\n",
       "      <th>346</th>\n",
       "      <td>3969300030</td>\n",
       "      <td>12/29/2014</td>\n",
       "      <td>239900.0</td>\n",
       "      <td>4</td>\n",
       "      <td>1.00</td>\n",
       "      <td>1000</td>\n",
       "      <td>7134</td>\n",
       "      <td>1.0</td>\n",
       "      <td>0.0</td>\n",
       "      <td>0.0</td>\n",
       "      <td>...</td>\n",
       "      <td>6</td>\n",
       "      <td>1000</td>\n",
       "      <td>0.0</td>\n",
       "      <td>1943</td>\n",
       "      <td>NaN</td>\n",
       "      <td>98178</td>\n",
       "      <td>47.4897</td>\n",
       "      <td>-122.240</td>\n",
       "      <td>1020</td>\n",
       "      <td>7138</td>\n",
       "    </tr>\n",
       "    <tr>\n",
       "      <th>371</th>\n",
       "      <td>2231500030</td>\n",
       "      <td>10/1/2014</td>\n",
       "      <td>315000.0</td>\n",
       "      <td>4</td>\n",
       "      <td>2.25</td>\n",
       "      <td>2180</td>\n",
       "      <td>10754</td>\n",
       "      <td>1.0</td>\n",
       "      <td>NaN</td>\n",
       "      <td>0.0</td>\n",
       "      <td>...</td>\n",
       "      <td>7</td>\n",
       "      <td>1100</td>\n",
       "      <td>1080.0</td>\n",
       "      <td>1954</td>\n",
       "      <td>0.0</td>\n",
       "      <td>98133</td>\n",
       "      <td>47.7711</td>\n",
       "      <td>-122.341</td>\n",
       "      <td>1810</td>\n",
       "      <td>6929</td>\n",
       "    </tr>\n",
       "    <tr>\n",
       "      <th>372</th>\n",
       "      <td>2231500030</td>\n",
       "      <td>3/24/2015</td>\n",
       "      <td>530000.0</td>\n",
       "      <td>4</td>\n",
       "      <td>2.25</td>\n",
       "      <td>2180</td>\n",
       "      <td>10754</td>\n",
       "      <td>1.0</td>\n",
       "      <td>0.0</td>\n",
       "      <td>0.0</td>\n",
       "      <td>...</td>\n",
       "      <td>7</td>\n",
       "      <td>1100</td>\n",
       "      <td>1080.0</td>\n",
       "      <td>1954</td>\n",
       "      <td>0.0</td>\n",
       "      <td>98133</td>\n",
       "      <td>47.7711</td>\n",
       "      <td>-122.341</td>\n",
       "      <td>1810</td>\n",
       "      <td>6929</td>\n",
       "    </tr>\n",
       "    <tr>\n",
       "      <th>717</th>\n",
       "      <td>8820903380</td>\n",
       "      <td>7/28/2014</td>\n",
       "      <td>452000.0</td>\n",
       "      <td>6</td>\n",
       "      <td>2.25</td>\n",
       "      <td>2660</td>\n",
       "      <td>13579</td>\n",
       "      <td>2.0</td>\n",
       "      <td>0.0</td>\n",
       "      <td>0.0</td>\n",
       "      <td>...</td>\n",
       "      <td>7</td>\n",
       "      <td>2660</td>\n",
       "      <td>0.0</td>\n",
       "      <td>1937</td>\n",
       "      <td>1990.0</td>\n",
       "      <td>98125</td>\n",
       "      <td>47.7142</td>\n",
       "      <td>-122.286</td>\n",
       "      <td>1120</td>\n",
       "      <td>8242</td>\n",
       "    </tr>\n",
       "    <tr>\n",
       "      <th>718</th>\n",
       "      <td>8820903380</td>\n",
       "      <td>1/2/2015</td>\n",
       "      <td>730000.0</td>\n",
       "      <td>6</td>\n",
       "      <td>2.25</td>\n",
       "      <td>2660</td>\n",
       "      <td>13579</td>\n",
       "      <td>2.0</td>\n",
       "      <td>0.0</td>\n",
       "      <td>0.0</td>\n",
       "      <td>...</td>\n",
       "      <td>7</td>\n",
       "      <td>2660</td>\n",
       "      <td>0.0</td>\n",
       "      <td>1937</td>\n",
       "      <td>1990.0</td>\n",
       "      <td>98125</td>\n",
       "      <td>47.7142</td>\n",
       "      <td>-122.286</td>\n",
       "      <td>1120</td>\n",
       "      <td>8242</td>\n",
       "    </tr>\n",
       "    <tr>\n",
       "      <th>823</th>\n",
       "      <td>726049190</td>\n",
       "      <td>10/2/2014</td>\n",
       "      <td>287500.0</td>\n",
       "      <td>3</td>\n",
       "      <td>1.00</td>\n",
       "      <td>1810</td>\n",
       "      <td>7200</td>\n",
       "      <td>1.0</td>\n",
       "      <td>0.0</td>\n",
       "      <td>0.0</td>\n",
       "      <td>...</td>\n",
       "      <td>7</td>\n",
       "      <td>1130</td>\n",
       "      <td>680.0</td>\n",
       "      <td>1954</td>\n",
       "      <td>0.0</td>\n",
       "      <td>98133</td>\n",
       "      <td>47.7493</td>\n",
       "      <td>-122.351</td>\n",
       "      <td>1810</td>\n",
       "      <td>8100</td>\n",
       "    </tr>\n",
       "    <tr>\n",
       "      <th>824</th>\n",
       "      <td>726049190</td>\n",
       "      <td>2/18/2015</td>\n",
       "      <td>431000.0</td>\n",
       "      <td>3</td>\n",
       "      <td>1.00</td>\n",
       "      <td>1810</td>\n",
       "      <td>7200</td>\n",
       "      <td>1.0</td>\n",
       "      <td>NaN</td>\n",
       "      <td>0.0</td>\n",
       "      <td>...</td>\n",
       "      <td>7</td>\n",
       "      <td>1130</td>\n",
       "      <td>680.0</td>\n",
       "      <td>1954</td>\n",
       "      <td>0.0</td>\n",
       "      <td>98133</td>\n",
       "      <td>47.7493</td>\n",
       "      <td>-122.351</td>\n",
       "      <td>1810</td>\n",
       "      <td>8100</td>\n",
       "    </tr>\n",
       "    <tr>\n",
       "      <th>836</th>\n",
       "      <td>8682262400</td>\n",
       "      <td>7/18/2014</td>\n",
       "      <td>430000.0</td>\n",
       "      <td>2</td>\n",
       "      <td>1.75</td>\n",
       "      <td>1350</td>\n",
       "      <td>4003</td>\n",
       "      <td>1.0</td>\n",
       "      <td>0.0</td>\n",
       "      <td>0.0</td>\n",
       "      <td>...</td>\n",
       "      <td>8</td>\n",
       "      <td>1350</td>\n",
       "      <td>0.0</td>\n",
       "      <td>2004</td>\n",
       "      <td>0.0</td>\n",
       "      <td>98053</td>\n",
       "      <td>47.7176</td>\n",
       "      <td>-122.033</td>\n",
       "      <td>1350</td>\n",
       "      <td>4479</td>\n",
       "    </tr>\n",
       "    <tr>\n",
       "      <th>837</th>\n",
       "      <td>8682262400</td>\n",
       "      <td>5/13/2015</td>\n",
       "      <td>419950.0</td>\n",
       "      <td>2</td>\n",
       "      <td>1.75</td>\n",
       "      <td>1350</td>\n",
       "      <td>4003</td>\n",
       "      <td>1.0</td>\n",
       "      <td>0.0</td>\n",
       "      <td>0.0</td>\n",
       "      <td>...</td>\n",
       "      <td>8</td>\n",
       "      <td>1350</td>\n",
       "      <td>0.0</td>\n",
       "      <td>2004</td>\n",
       "      <td>0.0</td>\n",
       "      <td>98053</td>\n",
       "      <td>47.7176</td>\n",
       "      <td>-122.033</td>\n",
       "      <td>1350</td>\n",
       "      <td>4479</td>\n",
       "    </tr>\n",
       "    <tr>\n",
       "      <th>1084</th>\n",
       "      <td>9834200885</td>\n",
       "      <td>7/17/2014</td>\n",
       "      <td>360000.0</td>\n",
       "      <td>4</td>\n",
       "      <td>2.50</td>\n",
       "      <td>2080</td>\n",
       "      <td>4080</td>\n",
       "      <td>1.0</td>\n",
       "      <td>0.0</td>\n",
       "      <td>0.0</td>\n",
       "      <td>...</td>\n",
       "      <td>7</td>\n",
       "      <td>1040</td>\n",
       "      <td>1040.0</td>\n",
       "      <td>1962</td>\n",
       "      <td>0.0</td>\n",
       "      <td>98144</td>\n",
       "      <td>47.5720</td>\n",
       "      <td>-122.290</td>\n",
       "      <td>1340</td>\n",
       "      <td>4080</td>\n",
       "    </tr>\n",
       "    <tr>\n",
       "      <th>1085</th>\n",
       "      <td>9834200885</td>\n",
       "      <td>4/20/2015</td>\n",
       "      <td>550000.0</td>\n",
       "      <td>4</td>\n",
       "      <td>2.50</td>\n",
       "      <td>2080</td>\n",
       "      <td>4080</td>\n",
       "      <td>1.0</td>\n",
       "      <td>0.0</td>\n",
       "      <td>0.0</td>\n",
       "      <td>...</td>\n",
       "      <td>7</td>\n",
       "      <td>1040</td>\n",
       "      <td>1040.0</td>\n",
       "      <td>1962</td>\n",
       "      <td>0.0</td>\n",
       "      <td>98144</td>\n",
       "      <td>47.5720</td>\n",
       "      <td>-122.290</td>\n",
       "      <td>1340</td>\n",
       "      <td>4080</td>\n",
       "    </tr>\n",
       "    <tr>\n",
       "      <th>1127</th>\n",
       "      <td>8062900070</td>\n",
       "      <td>9/9/2014</td>\n",
       "      <td>272000.0</td>\n",
       "      <td>5</td>\n",
       "      <td>1.50</td>\n",
       "      <td>2550</td>\n",
       "      <td>6300</td>\n",
       "      <td>1.0</td>\n",
       "      <td>0.0</td>\n",
       "      <td>0.0</td>\n",
       "      <td>...</td>\n",
       "      <td>7</td>\n",
       "      <td>1560</td>\n",
       "      <td>990.0</td>\n",
       "      <td>1959</td>\n",
       "      <td>0.0</td>\n",
       "      <td>98056</td>\n",
       "      <td>47.5014</td>\n",
       "      <td>-122.172</td>\n",
       "      <td>1380</td>\n",
       "      <td>6300</td>\n",
       "    </tr>\n",
       "    <tr>\n",
       "      <th>1128</th>\n",
       "      <td>8062900070</td>\n",
       "      <td>2/13/2015</td>\n",
       "      <td>369000.0</td>\n",
       "      <td>5</td>\n",
       "      <td>1.50</td>\n",
       "      <td>2550</td>\n",
       "      <td>6300</td>\n",
       "      <td>1.0</td>\n",
       "      <td>0.0</td>\n",
       "      <td>0.0</td>\n",
       "      <td>...</td>\n",
       "      <td>7</td>\n",
       "      <td>1560</td>\n",
       "      <td>990.0</td>\n",
       "      <td>1959</td>\n",
       "      <td>NaN</td>\n",
       "      <td>98056</td>\n",
       "      <td>47.5014</td>\n",
       "      <td>-122.172</td>\n",
       "      <td>1380</td>\n",
       "      <td>6300</td>\n",
       "    </tr>\n",
       "    <tr>\n",
       "      <th>1200</th>\n",
       "      <td>1231000510</td>\n",
       "      <td>9/22/2014</td>\n",
       "      <td>263000.0</td>\n",
       "      <td>3</td>\n",
       "      <td>1.75</td>\n",
       "      <td>1490</td>\n",
       "      <td>3800</td>\n",
       "      <td>1.0</td>\n",
       "      <td>0.0</td>\n",
       "      <td>0.0</td>\n",
       "      <td>...</td>\n",
       "      <td>6</td>\n",
       "      <td>700</td>\n",
       "      <td>790.0</td>\n",
       "      <td>1913</td>\n",
       "      <td>0.0</td>\n",
       "      <td>98118</td>\n",
       "      <td>47.5554</td>\n",
       "      <td>-122.270</td>\n",
       "      <td>2180</td>\n",
       "      <td>4000</td>\n",
       "    </tr>\n",
       "    <tr>\n",
       "      <th>1201</th>\n",
       "      <td>1231000510</td>\n",
       "      <td>5/4/2015</td>\n",
       "      <td>510000.0</td>\n",
       "      <td>3</td>\n",
       "      <td>1.75</td>\n",
       "      <td>1490</td>\n",
       "      <td>3800</td>\n",
       "      <td>1.0</td>\n",
       "      <td>0.0</td>\n",
       "      <td>0.0</td>\n",
       "      <td>...</td>\n",
       "      <td>6</td>\n",
       "      <td>700</td>\n",
       "      <td>790.0</td>\n",
       "      <td>1913</td>\n",
       "      <td>0.0</td>\n",
       "      <td>98118</td>\n",
       "      <td>47.5554</td>\n",
       "      <td>-122.270</td>\n",
       "      <td>2180</td>\n",
       "      <td>4000</td>\n",
       "    </tr>\n",
       "    <tr>\n",
       "      <th>1232</th>\n",
       "      <td>6117501820</td>\n",
       "      <td>6/18/2014</td>\n",
       "      <td>250275.0</td>\n",
       "      <td>2</td>\n",
       "      <td>1.00</td>\n",
       "      <td>790</td>\n",
       "      <td>11234</td>\n",
       "      <td>1.0</td>\n",
       "      <td>0.0</td>\n",
       "      <td>0.0</td>\n",
       "      <td>...</td>\n",
       "      <td>6</td>\n",
       "      <td>790</td>\n",
       "      <td>0.0</td>\n",
       "      <td>1942</td>\n",
       "      <td>0.0</td>\n",
       "      <td>98166</td>\n",
       "      <td>47.4413</td>\n",
       "      <td>-122.349</td>\n",
       "      <td>1930</td>\n",
       "      <td>11871</td>\n",
       "    </tr>\n",
       "    <tr>\n",
       "      <th>1233</th>\n",
       "      <td>6117501820</td>\n",
       "      <td>4/28/2015</td>\n",
       "      <td>435000.0</td>\n",
       "      <td>2</td>\n",
       "      <td>1.00</td>\n",
       "      <td>790</td>\n",
       "      <td>11234</td>\n",
       "      <td>1.0</td>\n",
       "      <td>0.0</td>\n",
       "      <td>0.0</td>\n",
       "      <td>...</td>\n",
       "      <td>6</td>\n",
       "      <td>790</td>\n",
       "      <td>0.0</td>\n",
       "      <td>1942</td>\n",
       "      <td>0.0</td>\n",
       "      <td>98166</td>\n",
       "      <td>47.4413</td>\n",
       "      <td>-122.349</td>\n",
       "      <td>1930</td>\n",
       "      <td>11871</td>\n",
       "    </tr>\n",
       "    <tr>\n",
       "      <th>1448</th>\n",
       "      <td>2228900270</td>\n",
       "      <td>8/12/2014</td>\n",
       "      <td>215000.0</td>\n",
       "      <td>2</td>\n",
       "      <td>1.00</td>\n",
       "      <td>1010</td>\n",
       "      <td>6000</td>\n",
       "      <td>1.0</td>\n",
       "      <td>0.0</td>\n",
       "      <td>0.0</td>\n",
       "      <td>...</td>\n",
       "      <td>6</td>\n",
       "      <td>1010</td>\n",
       "      <td>0.0</td>\n",
       "      <td>1944</td>\n",
       "      <td>NaN</td>\n",
       "      <td>98133</td>\n",
       "      <td>47.7710</td>\n",
       "      <td>-122.353</td>\n",
       "      <td>1610</td>\n",
       "      <td>7313</td>\n",
       "    </tr>\n",
       "    <tr>\n",
       "      <th>1449</th>\n",
       "      <td>2228900270</td>\n",
       "      <td>2/12/2015</td>\n",
       "      <td>302000.0</td>\n",
       "      <td>2</td>\n",
       "      <td>1.00</td>\n",
       "      <td>1010</td>\n",
       "      <td>6000</td>\n",
       "      <td>1.0</td>\n",
       "      <td>NaN</td>\n",
       "      <td>0.0</td>\n",
       "      <td>...</td>\n",
       "      <td>6</td>\n",
       "      <td>1010</td>\n",
       "      <td>0.0</td>\n",
       "      <td>1944</td>\n",
       "      <td>0.0</td>\n",
       "      <td>98133</td>\n",
       "      <td>47.7710</td>\n",
       "      <td>-122.353</td>\n",
       "      <td>1610</td>\n",
       "      <td>7313</td>\n",
       "    </tr>\n",
       "    <tr>\n",
       "      <th>1462</th>\n",
       "      <td>3630120700</td>\n",
       "      <td>5/13/2014</td>\n",
       "      <td>757000.0</td>\n",
       "      <td>3</td>\n",
       "      <td>3.25</td>\n",
       "      <td>3190</td>\n",
       "      <td>5283</td>\n",
       "      <td>2.0</td>\n",
       "      <td>0.0</td>\n",
       "      <td>0.0</td>\n",
       "      <td>...</td>\n",
       "      <td>9</td>\n",
       "      <td>3190</td>\n",
       "      <td>0.0</td>\n",
       "      <td>2007</td>\n",
       "      <td>0.0</td>\n",
       "      <td>98029</td>\n",
       "      <td>47.5534</td>\n",
       "      <td>-122.002</td>\n",
       "      <td>2950</td>\n",
       "      <td>5198</td>\n",
       "    </tr>\n",
       "    <tr>\n",
       "      <th>1463</th>\n",
       "      <td>3630120700</td>\n",
       "      <td>1/7/2015</td>\n",
       "      <td>765000.0</td>\n",
       "      <td>3</td>\n",
       "      <td>3.25</td>\n",
       "      <td>3190</td>\n",
       "      <td>5283</td>\n",
       "      <td>2.0</td>\n",
       "      <td>0.0</td>\n",
       "      <td>0.0</td>\n",
       "      <td>...</td>\n",
       "      <td>9</td>\n",
       "      <td>3190</td>\n",
       "      <td>0.0</td>\n",
       "      <td>2007</td>\n",
       "      <td>0.0</td>\n",
       "      <td>98029</td>\n",
       "      <td>47.5534</td>\n",
       "      <td>-122.002</td>\n",
       "      <td>2950</td>\n",
       "      <td>5198</td>\n",
       "    </tr>\n",
       "    <tr>\n",
       "      <th>1574</th>\n",
       "      <td>7888000390</td>\n",
       "      <td>6/27/2014</td>\n",
       "      <td>140000.0</td>\n",
       "      <td>3</td>\n",
       "      <td>1.00</td>\n",
       "      <td>1060</td>\n",
       "      <td>7473</td>\n",
       "      <td>1.0</td>\n",
       "      <td>0.0</td>\n",
       "      <td>0.0</td>\n",
       "      <td>...</td>\n",
       "      <td>7</td>\n",
       "      <td>1060</td>\n",
       "      <td>0.0</td>\n",
       "      <td>1959</td>\n",
       "      <td>0.0</td>\n",
       "      <td>98198</td>\n",
       "      <td>47.3699</td>\n",
       "      <td>-122.309</td>\n",
       "      <td>1320</td>\n",
       "      <td>7912</td>\n",
       "    </tr>\n",
       "    <tr>\n",
       "      <th>1575</th>\n",
       "      <td>7888000390</td>\n",
       "      <td>4/1/2015</td>\n",
       "      <td>235000.0</td>\n",
       "      <td>3</td>\n",
       "      <td>1.00</td>\n",
       "      <td>1060</td>\n",
       "      <td>7473</td>\n",
       "      <td>1.0</td>\n",
       "      <td>0.0</td>\n",
       "      <td>0.0</td>\n",
       "      <td>...</td>\n",
       "      <td>7</td>\n",
       "      <td>1060</td>\n",
       "      <td>0.0</td>\n",
       "      <td>1959</td>\n",
       "      <td>NaN</td>\n",
       "      <td>98198</td>\n",
       "      <td>47.3699</td>\n",
       "      <td>-122.309</td>\n",
       "      <td>1320</td>\n",
       "      <td>7912</td>\n",
       "    </tr>\n",
       "    <tr>\n",
       "      <th>1862</th>\n",
       "      <td>2143700830</td>\n",
       "      <td>10/6/2014</td>\n",
       "      <td>207000.0</td>\n",
       "      <td>4</td>\n",
       "      <td>2.50</td>\n",
       "      <td>2100</td>\n",
       "      <td>19680</td>\n",
       "      <td>1.5</td>\n",
       "      <td>NaN</td>\n",
       "      <td>0.0</td>\n",
       "      <td>...</td>\n",
       "      <td>6</td>\n",
       "      <td>2100</td>\n",
       "      <td>0.0</td>\n",
       "      <td>1914</td>\n",
       "      <td>0.0</td>\n",
       "      <td>98055</td>\n",
       "      <td>47.4787</td>\n",
       "      <td>-122.230</td>\n",
       "      <td>1340</td>\n",
       "      <td>12300</td>\n",
       "    </tr>\n",
       "    <tr>\n",
       "      <th>1863</th>\n",
       "      <td>2143700830</td>\n",
       "      <td>3/12/2015</td>\n",
       "      <td>370000.0</td>\n",
       "      <td>4</td>\n",
       "      <td>2.50</td>\n",
       "      <td>2100</td>\n",
       "      <td>19680</td>\n",
       "      <td>1.5</td>\n",
       "      <td>0.0</td>\n",
       "      <td>0.0</td>\n",
       "      <td>...</td>\n",
       "      <td>6</td>\n",
       "      <td>2100</td>\n",
       "      <td>0.0</td>\n",
       "      <td>1914</td>\n",
       "      <td>0.0</td>\n",
       "      <td>98055</td>\n",
       "      <td>47.4787</td>\n",
       "      <td>-122.230</td>\n",
       "      <td>1340</td>\n",
       "      <td>12300</td>\n",
       "    </tr>\n",
       "    <tr>\n",
       "      <th>...</th>\n",
       "      <td>...</td>\n",
       "      <td>...</td>\n",
       "      <td>...</td>\n",
       "      <td>...</td>\n",
       "      <td>...</td>\n",
       "      <td>...</td>\n",
       "      <td>...</td>\n",
       "      <td>...</td>\n",
       "      <td>...</td>\n",
       "      <td>...</td>\n",
       "      <td>...</td>\n",
       "      <td>...</td>\n",
       "      <td>...</td>\n",
       "      <td>...</td>\n",
       "      <td>...</td>\n",
       "      <td>...</td>\n",
       "      <td>...</td>\n",
       "      <td>...</td>\n",
       "      <td>...</td>\n",
       "      <td>...</td>\n",
       "      <td>...</td>\n",
       "    </tr>\n",
       "    <tr>\n",
       "      <th>17837</th>\n",
       "      <td>6791200120</td>\n",
       "      <td>9/23/2014</td>\n",
       "      <td>480000.0</td>\n",
       "      <td>3</td>\n",
       "      <td>2.25</td>\n",
       "      <td>1820</td>\n",
       "      <td>13362</td>\n",
       "      <td>1.0</td>\n",
       "      <td>0.0</td>\n",
       "      <td>0.0</td>\n",
       "      <td>...</td>\n",
       "      <td>8</td>\n",
       "      <td>1220</td>\n",
       "      <td>600.0</td>\n",
       "      <td>1977</td>\n",
       "      <td>0.0</td>\n",
       "      <td>98075</td>\n",
       "      <td>47.5898</td>\n",
       "      <td>-122.052</td>\n",
       "      <td>2050</td>\n",
       "      <td>15000</td>\n",
       "    </tr>\n",
       "    <tr>\n",
       "      <th>17838</th>\n",
       "      <td>6791200120</td>\n",
       "      <td>4/7/2015</td>\n",
       "      <td>515000.0</td>\n",
       "      <td>3</td>\n",
       "      <td>2.25</td>\n",
       "      <td>1820</td>\n",
       "      <td>13362</td>\n",
       "      <td>1.0</td>\n",
       "      <td>0.0</td>\n",
       "      <td>0.0</td>\n",
       "      <td>...</td>\n",
       "      <td>8</td>\n",
       "      <td>1220</td>\n",
       "      <td>600.0</td>\n",
       "      <td>1977</td>\n",
       "      <td>0.0</td>\n",
       "      <td>98075</td>\n",
       "      <td>47.5898</td>\n",
       "      <td>-122.052</td>\n",
       "      <td>2050</td>\n",
       "      <td>15000</td>\n",
       "    </tr>\n",
       "    <tr>\n",
       "      <th>18219</th>\n",
       "      <td>6751300375</td>\n",
       "      <td>7/2/2014</td>\n",
       "      <td>415000.0</td>\n",
       "      <td>3</td>\n",
       "      <td>1.00</td>\n",
       "      <td>1520</td>\n",
       "      <td>9030</td>\n",
       "      <td>1.0</td>\n",
       "      <td>0.0</td>\n",
       "      <td>0.0</td>\n",
       "      <td>...</td>\n",
       "      <td>7</td>\n",
       "      <td>1520</td>\n",
       "      <td>0.0</td>\n",
       "      <td>1956</td>\n",
       "      <td>0.0</td>\n",
       "      <td>98007</td>\n",
       "      <td>47.5870</td>\n",
       "      <td>-122.134</td>\n",
       "      <td>1470</td>\n",
       "      <td>8712</td>\n",
       "    </tr>\n",
       "    <tr>\n",
       "      <th>18220</th>\n",
       "      <td>6751300375</td>\n",
       "      <td>10/16/2014</td>\n",
       "      <td>522500.0</td>\n",
       "      <td>3</td>\n",
       "      <td>1.00</td>\n",
       "      <td>1520</td>\n",
       "      <td>9030</td>\n",
       "      <td>1.0</td>\n",
       "      <td>0.0</td>\n",
       "      <td>0.0</td>\n",
       "      <td>...</td>\n",
       "      <td>7</td>\n",
       "      <td>1520</td>\n",
       "      <td>0.0</td>\n",
       "      <td>1956</td>\n",
       "      <td>NaN</td>\n",
       "      <td>98007</td>\n",
       "      <td>47.5870</td>\n",
       "      <td>-122.134</td>\n",
       "      <td>1470</td>\n",
       "      <td>8712</td>\n",
       "    </tr>\n",
       "    <tr>\n",
       "      <th>18549</th>\n",
       "      <td>7657000540</td>\n",
       "      <td>9/2/2014</td>\n",
       "      <td>165000.0</td>\n",
       "      <td>4</td>\n",
       "      <td>1.00</td>\n",
       "      <td>1220</td>\n",
       "      <td>7980</td>\n",
       "      <td>1.5</td>\n",
       "      <td>0.0</td>\n",
       "      <td>0.0</td>\n",
       "      <td>...</td>\n",
       "      <td>6</td>\n",
       "      <td>1220</td>\n",
       "      <td>0.0</td>\n",
       "      <td>1944</td>\n",
       "      <td>0.0</td>\n",
       "      <td>98178</td>\n",
       "      <td>47.4924</td>\n",
       "      <td>-122.237</td>\n",
       "      <td>1210</td>\n",
       "      <td>7920</td>\n",
       "    </tr>\n",
       "    <tr>\n",
       "      <th>18550</th>\n",
       "      <td>7657000540</td>\n",
       "      <td>3/4/2015</td>\n",
       "      <td>260000.0</td>\n",
       "      <td>4</td>\n",
       "      <td>1.00</td>\n",
       "      <td>1220</td>\n",
       "      <td>7980</td>\n",
       "      <td>1.5</td>\n",
       "      <td>0.0</td>\n",
       "      <td>0.0</td>\n",
       "      <td>...</td>\n",
       "      <td>6</td>\n",
       "      <td>1220</td>\n",
       "      <td>0.0</td>\n",
       "      <td>1944</td>\n",
       "      <td>0.0</td>\n",
       "      <td>98178</td>\n",
       "      <td>47.4924</td>\n",
       "      <td>-122.237</td>\n",
       "      <td>1210</td>\n",
       "      <td>7920</td>\n",
       "    </tr>\n",
       "    <tr>\n",
       "      <th>18688</th>\n",
       "      <td>3558900590</td>\n",
       "      <td>11/25/2014</td>\n",
       "      <td>360000.0</td>\n",
       "      <td>6</td>\n",
       "      <td>1.75</td>\n",
       "      <td>2230</td>\n",
       "      <td>10080</td>\n",
       "      <td>1.0</td>\n",
       "      <td>0.0</td>\n",
       "      <td>0.0</td>\n",
       "      <td>...</td>\n",
       "      <td>7</td>\n",
       "      <td>1390</td>\n",
       "      <td>840.0</td>\n",
       "      <td>1969</td>\n",
       "      <td>0.0</td>\n",
       "      <td>98034</td>\n",
       "      <td>47.7089</td>\n",
       "      <td>-122.201</td>\n",
       "      <td>2110</td>\n",
       "      <td>8475</td>\n",
       "    </tr>\n",
       "    <tr>\n",
       "      <th>18689</th>\n",
       "      <td>3558900590</td>\n",
       "      <td>3/24/2015</td>\n",
       "      <td>692500.0</td>\n",
       "      <td>6</td>\n",
       "      <td>1.75</td>\n",
       "      <td>2230</td>\n",
       "      <td>10080</td>\n",
       "      <td>1.0</td>\n",
       "      <td>0.0</td>\n",
       "      <td>0.0</td>\n",
       "      <td>...</td>\n",
       "      <td>7</td>\n",
       "      <td>1390</td>\n",
       "      <td>840.0</td>\n",
       "      <td>1969</td>\n",
       "      <td>0.0</td>\n",
       "      <td>98034</td>\n",
       "      <td>47.7089</td>\n",
       "      <td>-122.201</td>\n",
       "      <td>2110</td>\n",
       "      <td>8475</td>\n",
       "    </tr>\n",
       "    <tr>\n",
       "      <th>18690</th>\n",
       "      <td>8121100395</td>\n",
       "      <td>6/24/2014</td>\n",
       "      <td>425000.0</td>\n",
       "      <td>4</td>\n",
       "      <td>1.50</td>\n",
       "      <td>1600</td>\n",
       "      <td>6180</td>\n",
       "      <td>1.5</td>\n",
       "      <td>0.0</td>\n",
       "      <td>0.0</td>\n",
       "      <td>...</td>\n",
       "      <td>6</td>\n",
       "      <td>1600</td>\n",
       "      <td>0.0</td>\n",
       "      <td>1946</td>\n",
       "      <td>0.0</td>\n",
       "      <td>98118</td>\n",
       "      <td>47.5681</td>\n",
       "      <td>-122.285</td>\n",
       "      <td>1410</td>\n",
       "      <td>6180</td>\n",
       "    </tr>\n",
       "    <tr>\n",
       "      <th>18691</th>\n",
       "      <td>8121100395</td>\n",
       "      <td>3/11/2015</td>\n",
       "      <td>645000.0</td>\n",
       "      <td>4</td>\n",
       "      <td>1.50</td>\n",
       "      <td>1600</td>\n",
       "      <td>6180</td>\n",
       "      <td>1.5</td>\n",
       "      <td>0.0</td>\n",
       "      <td>0.0</td>\n",
       "      <td>...</td>\n",
       "      <td>6</td>\n",
       "      <td>1600</td>\n",
       "      <td>0.0</td>\n",
       "      <td>1946</td>\n",
       "      <td>0.0</td>\n",
       "      <td>98118</td>\n",
       "      <td>47.5681</td>\n",
       "      <td>-122.285</td>\n",
       "      <td>1410</td>\n",
       "      <td>6180</td>\n",
       "    </tr>\n",
       "    <tr>\n",
       "      <th>18747</th>\n",
       "      <td>3332000615</td>\n",
       "      <td>10/20/2014</td>\n",
       "      <td>310000.0</td>\n",
       "      <td>3</td>\n",
       "      <td>1.00</td>\n",
       "      <td>1330</td>\n",
       "      <td>3740</td>\n",
       "      <td>1.5</td>\n",
       "      <td>0.0</td>\n",
       "      <td>0.0</td>\n",
       "      <td>...</td>\n",
       "      <td>6</td>\n",
       "      <td>1330</td>\n",
       "      <td>0.0</td>\n",
       "      <td>1903</td>\n",
       "      <td>NaN</td>\n",
       "      <td>98118</td>\n",
       "      <td>47.5502</td>\n",
       "      <td>-122.274</td>\n",
       "      <td>1330</td>\n",
       "      <td>5053</td>\n",
       "    </tr>\n",
       "    <tr>\n",
       "      <th>18748</th>\n",
       "      <td>3332000615</td>\n",
       "      <td>4/22/2015</td>\n",
       "      <td>389000.0</td>\n",
       "      <td>3</td>\n",
       "      <td>1.00</td>\n",
       "      <td>1330</td>\n",
       "      <td>3740</td>\n",
       "      <td>1.5</td>\n",
       "      <td>NaN</td>\n",
       "      <td>0.0</td>\n",
       "      <td>...</td>\n",
       "      <td>6</td>\n",
       "      <td>1330</td>\n",
       "      <td>0.0</td>\n",
       "      <td>1903</td>\n",
       "      <td>0.0</td>\n",
       "      <td>98118</td>\n",
       "      <td>47.5502</td>\n",
       "      <td>-122.274</td>\n",
       "      <td>1330</td>\n",
       "      <td>5053</td>\n",
       "    </tr>\n",
       "    <tr>\n",
       "      <th>19194</th>\n",
       "      <td>1901600090</td>\n",
       "      <td>6/26/2014</td>\n",
       "      <td>359000.0</td>\n",
       "      <td>5</td>\n",
       "      <td>1.75</td>\n",
       "      <td>1940</td>\n",
       "      <td>6654</td>\n",
       "      <td>1.5</td>\n",
       "      <td>0.0</td>\n",
       "      <td>0.0</td>\n",
       "      <td>...</td>\n",
       "      <td>7</td>\n",
       "      <td>1940</td>\n",
       "      <td>0.0</td>\n",
       "      <td>1953</td>\n",
       "      <td>0.0</td>\n",
       "      <td>98166</td>\n",
       "      <td>47.4663</td>\n",
       "      <td>-122.359</td>\n",
       "      <td>2300</td>\n",
       "      <td>9500</td>\n",
       "    </tr>\n",
       "    <tr>\n",
       "      <th>19195</th>\n",
       "      <td>1901600090</td>\n",
       "      <td>4/26/2015</td>\n",
       "      <td>390000.0</td>\n",
       "      <td>5</td>\n",
       "      <td>1.75</td>\n",
       "      <td>1940</td>\n",
       "      <td>6654</td>\n",
       "      <td>1.5</td>\n",
       "      <td>NaN</td>\n",
       "      <td>0.0</td>\n",
       "      <td>...</td>\n",
       "      <td>7</td>\n",
       "      <td>1940</td>\n",
       "      <td>0.0</td>\n",
       "      <td>1953</td>\n",
       "      <td>0.0</td>\n",
       "      <td>98166</td>\n",
       "      <td>47.4663</td>\n",
       "      <td>-122.359</td>\n",
       "      <td>2300</td>\n",
       "      <td>9500</td>\n",
       "    </tr>\n",
       "    <tr>\n",
       "      <th>19320</th>\n",
       "      <td>6021500970</td>\n",
       "      <td>5/28/2014</td>\n",
       "      <td>345000.0</td>\n",
       "      <td>2</td>\n",
       "      <td>1.00</td>\n",
       "      <td>1080</td>\n",
       "      <td>4000</td>\n",
       "      <td>1.0</td>\n",
       "      <td>0.0</td>\n",
       "      <td>0.0</td>\n",
       "      <td>...</td>\n",
       "      <td>7</td>\n",
       "      <td>1080</td>\n",
       "      <td>0.0</td>\n",
       "      <td>1940</td>\n",
       "      <td>0.0</td>\n",
       "      <td>98117</td>\n",
       "      <td>47.6902</td>\n",
       "      <td>-122.387</td>\n",
       "      <td>1530</td>\n",
       "      <td>4240</td>\n",
       "    </tr>\n",
       "    <tr>\n",
       "      <th>19321</th>\n",
       "      <td>6021500970</td>\n",
       "      <td>4/7/2015</td>\n",
       "      <td>874950.0</td>\n",
       "      <td>2</td>\n",
       "      <td>1.00</td>\n",
       "      <td>1080</td>\n",
       "      <td>4000</td>\n",
       "      <td>1.0</td>\n",
       "      <td>0.0</td>\n",
       "      <td>0.0</td>\n",
       "      <td>...</td>\n",
       "      <td>7</td>\n",
       "      <td>1080</td>\n",
       "      <td>?</td>\n",
       "      <td>1940</td>\n",
       "      <td>NaN</td>\n",
       "      <td>98117</td>\n",
       "      <td>47.6902</td>\n",
       "      <td>-122.387</td>\n",
       "      <td>1530</td>\n",
       "      <td>4240</td>\n",
       "    </tr>\n",
       "    <tr>\n",
       "      <th>19536</th>\n",
       "      <td>643300040</td>\n",
       "      <td>11/4/2014</td>\n",
       "      <td>481000.0</td>\n",
       "      <td>4</td>\n",
       "      <td>1.75</td>\n",
       "      <td>1920</td>\n",
       "      <td>9500</td>\n",
       "      <td>1.0</td>\n",
       "      <td>0.0</td>\n",
       "      <td>0.0</td>\n",
       "      <td>...</td>\n",
       "      <td>7</td>\n",
       "      <td>1470</td>\n",
       "      <td>450.0</td>\n",
       "      <td>1966</td>\n",
       "      <td>0.0</td>\n",
       "      <td>98006</td>\n",
       "      <td>47.5683</td>\n",
       "      <td>-122.177</td>\n",
       "      <td>1820</td>\n",
       "      <td>10091</td>\n",
       "    </tr>\n",
       "    <tr>\n",
       "      <th>19537</th>\n",
       "      <td>643300040</td>\n",
       "      <td>3/13/2015</td>\n",
       "      <td>719521.0</td>\n",
       "      <td>4</td>\n",
       "      <td>1.75</td>\n",
       "      <td>1920</td>\n",
       "      <td>9500</td>\n",
       "      <td>1.0</td>\n",
       "      <td>0.0</td>\n",
       "      <td>0.0</td>\n",
       "      <td>...</td>\n",
       "      <td>7</td>\n",
       "      <td>1470</td>\n",
       "      <td>450.0</td>\n",
       "      <td>1966</td>\n",
       "      <td>0.0</td>\n",
       "      <td>98006</td>\n",
       "      <td>47.5683</td>\n",
       "      <td>-122.177</td>\n",
       "      <td>1820</td>\n",
       "      <td>10091</td>\n",
       "    </tr>\n",
       "    <tr>\n",
       "      <th>20037</th>\n",
       "      <td>8648900110</td>\n",
       "      <td>5/5/2014</td>\n",
       "      <td>555000.0</td>\n",
       "      <td>3</td>\n",
       "      <td>2.50</td>\n",
       "      <td>1940</td>\n",
       "      <td>3211</td>\n",
       "      <td>2.0</td>\n",
       "      <td>0.0</td>\n",
       "      <td>0.0</td>\n",
       "      <td>...</td>\n",
       "      <td>8</td>\n",
       "      <td>1940</td>\n",
       "      <td>0.0</td>\n",
       "      <td>2009</td>\n",
       "      <td>0.0</td>\n",
       "      <td>98027</td>\n",
       "      <td>47.5644</td>\n",
       "      <td>-122.093</td>\n",
       "      <td>1880</td>\n",
       "      <td>3078</td>\n",
       "    </tr>\n",
       "    <tr>\n",
       "      <th>20038</th>\n",
       "      <td>8648900110</td>\n",
       "      <td>8/26/2014</td>\n",
       "      <td>555000.0</td>\n",
       "      <td>3</td>\n",
       "      <td>2.50</td>\n",
       "      <td>1940</td>\n",
       "      <td>3211</td>\n",
       "      <td>2.0</td>\n",
       "      <td>0.0</td>\n",
       "      <td>0.0</td>\n",
       "      <td>...</td>\n",
       "      <td>8</td>\n",
       "      <td>1940</td>\n",
       "      <td>0.0</td>\n",
       "      <td>2009</td>\n",
       "      <td>0.0</td>\n",
       "      <td>98027</td>\n",
       "      <td>47.5644</td>\n",
       "      <td>-122.093</td>\n",
       "      <td>1880</td>\n",
       "      <td>3078</td>\n",
       "    </tr>\n",
       "    <tr>\n",
       "      <th>20164</th>\n",
       "      <td>7853400250</td>\n",
       "      <td>6/4/2014</td>\n",
       "      <td>610000.0</td>\n",
       "      <td>4</td>\n",
       "      <td>3.50</td>\n",
       "      <td>2910</td>\n",
       "      <td>5260</td>\n",
       "      <td>2.0</td>\n",
       "      <td>0.0</td>\n",
       "      <td>0.0</td>\n",
       "      <td>...</td>\n",
       "      <td>9</td>\n",
       "      <td>2910</td>\n",
       "      <td>0.0</td>\n",
       "      <td>2012</td>\n",
       "      <td>0.0</td>\n",
       "      <td>98065</td>\n",
       "      <td>47.5168</td>\n",
       "      <td>-121.883</td>\n",
       "      <td>2910</td>\n",
       "      <td>5260</td>\n",
       "    </tr>\n",
       "    <tr>\n",
       "      <th>20165</th>\n",
       "      <td>7853400250</td>\n",
       "      <td>2/19/2015</td>\n",
       "      <td>645000.0</td>\n",
       "      <td>4</td>\n",
       "      <td>3.50</td>\n",
       "      <td>2910</td>\n",
       "      <td>5260</td>\n",
       "      <td>2.0</td>\n",
       "      <td>0.0</td>\n",
       "      <td>0.0</td>\n",
       "      <td>...</td>\n",
       "      <td>9</td>\n",
       "      <td>2910</td>\n",
       "      <td>0.0</td>\n",
       "      <td>2012</td>\n",
       "      <td>0.0</td>\n",
       "      <td>98065</td>\n",
       "      <td>47.5168</td>\n",
       "      <td>-121.883</td>\n",
       "      <td>2910</td>\n",
       "      <td>5260</td>\n",
       "    </tr>\n",
       "    <tr>\n",
       "      <th>20596</th>\n",
       "      <td>2724049222</td>\n",
       "      <td>8/2/2014</td>\n",
       "      <td>163800.0</td>\n",
       "      <td>2</td>\n",
       "      <td>2.50</td>\n",
       "      <td>1000</td>\n",
       "      <td>1092</td>\n",
       "      <td>2.0</td>\n",
       "      <td>NaN</td>\n",
       "      <td>0.0</td>\n",
       "      <td>...</td>\n",
       "      <td>7</td>\n",
       "      <td>990</td>\n",
       "      <td>10.0</td>\n",
       "      <td>2004</td>\n",
       "      <td>0.0</td>\n",
       "      <td>98118</td>\n",
       "      <td>47.5419</td>\n",
       "      <td>-122.271</td>\n",
       "      <td>1330</td>\n",
       "      <td>1466</td>\n",
       "    </tr>\n",
       "    <tr>\n",
       "      <th>20597</th>\n",
       "      <td>2724049222</td>\n",
       "      <td>12/1/2014</td>\n",
       "      <td>220000.0</td>\n",
       "      <td>2</td>\n",
       "      <td>2.50</td>\n",
       "      <td>1000</td>\n",
       "      <td>1092</td>\n",
       "      <td>2.0</td>\n",
       "      <td>0.0</td>\n",
       "      <td>0.0</td>\n",
       "      <td>...</td>\n",
       "      <td>7</td>\n",
       "      <td>990</td>\n",
       "      <td>10.0</td>\n",
       "      <td>2004</td>\n",
       "      <td>0.0</td>\n",
       "      <td>98118</td>\n",
       "      <td>47.5419</td>\n",
       "      <td>-122.271</td>\n",
       "      <td>1330</td>\n",
       "      <td>1466</td>\n",
       "    </tr>\n",
       "    <tr>\n",
       "      <th>20653</th>\n",
       "      <td>8564860270</td>\n",
       "      <td>7/8/2014</td>\n",
       "      <td>449990.0</td>\n",
       "      <td>4</td>\n",
       "      <td>2.50</td>\n",
       "      <td>2680</td>\n",
       "      <td>5539</td>\n",
       "      <td>2.0</td>\n",
       "      <td>0.0</td>\n",
       "      <td>0.0</td>\n",
       "      <td>...</td>\n",
       "      <td>8</td>\n",
       "      <td>2680</td>\n",
       "      <td>0.0</td>\n",
       "      <td>2013</td>\n",
       "      <td>0.0</td>\n",
       "      <td>98045</td>\n",
       "      <td>47.4759</td>\n",
       "      <td>-121.734</td>\n",
       "      <td>2680</td>\n",
       "      <td>5992</td>\n",
       "    </tr>\n",
       "    <tr>\n",
       "      <th>20654</th>\n",
       "      <td>8564860270</td>\n",
       "      <td>3/30/2015</td>\n",
       "      <td>502000.0</td>\n",
       "      <td>4</td>\n",
       "      <td>2.50</td>\n",
       "      <td>2680</td>\n",
       "      <td>5539</td>\n",
       "      <td>2.0</td>\n",
       "      <td>NaN</td>\n",
       "      <td>0.0</td>\n",
       "      <td>...</td>\n",
       "      <td>8</td>\n",
       "      <td>2680</td>\n",
       "      <td>0.0</td>\n",
       "      <td>2013</td>\n",
       "      <td>0.0</td>\n",
       "      <td>98045</td>\n",
       "      <td>47.4759</td>\n",
       "      <td>-121.734</td>\n",
       "      <td>2680</td>\n",
       "      <td>5992</td>\n",
       "    </tr>\n",
       "    <tr>\n",
       "      <th>20763</th>\n",
       "      <td>6300000226</td>\n",
       "      <td>6/26/2014</td>\n",
       "      <td>240000.0</td>\n",
       "      <td>4</td>\n",
       "      <td>1.00</td>\n",
       "      <td>1200</td>\n",
       "      <td>2171</td>\n",
       "      <td>1.5</td>\n",
       "      <td>0.0</td>\n",
       "      <td>0.0</td>\n",
       "      <td>...</td>\n",
       "      <td>7</td>\n",
       "      <td>1200</td>\n",
       "      <td>0.0</td>\n",
       "      <td>1933</td>\n",
       "      <td>0.0</td>\n",
       "      <td>98133</td>\n",
       "      <td>47.7076</td>\n",
       "      <td>-122.342</td>\n",
       "      <td>1130</td>\n",
       "      <td>1598</td>\n",
       "    </tr>\n",
       "    <tr>\n",
       "      <th>20764</th>\n",
       "      <td>6300000226</td>\n",
       "      <td>5/4/2015</td>\n",
       "      <td>380000.0</td>\n",
       "      <td>4</td>\n",
       "      <td>1.00</td>\n",
       "      <td>1200</td>\n",
       "      <td>2171</td>\n",
       "      <td>1.5</td>\n",
       "      <td>0.0</td>\n",
       "      <td>0.0</td>\n",
       "      <td>...</td>\n",
       "      <td>7</td>\n",
       "      <td>1200</td>\n",
       "      <td>0.0</td>\n",
       "      <td>1933</td>\n",
       "      <td>0.0</td>\n",
       "      <td>98133</td>\n",
       "      <td>47.7076</td>\n",
       "      <td>-122.342</td>\n",
       "      <td>1130</td>\n",
       "      <td>1598</td>\n",
       "    </tr>\n",
       "    <tr>\n",
       "      <th>21564</th>\n",
       "      <td>7853420110</td>\n",
       "      <td>10/3/2014</td>\n",
       "      <td>594866.0</td>\n",
       "      <td>3</td>\n",
       "      <td>3.00</td>\n",
       "      <td>2780</td>\n",
       "      <td>6000</td>\n",
       "      <td>2.0</td>\n",
       "      <td>0.0</td>\n",
       "      <td>0.0</td>\n",
       "      <td>...</td>\n",
       "      <td>9</td>\n",
       "      <td>2780</td>\n",
       "      <td>0.0</td>\n",
       "      <td>2013</td>\n",
       "      <td>0.0</td>\n",
       "      <td>98065</td>\n",
       "      <td>47.5184</td>\n",
       "      <td>-121.886</td>\n",
       "      <td>2850</td>\n",
       "      <td>6000</td>\n",
       "    </tr>\n",
       "    <tr>\n",
       "      <th>21565</th>\n",
       "      <td>7853420110</td>\n",
       "      <td>5/4/2015</td>\n",
       "      <td>625000.0</td>\n",
       "      <td>3</td>\n",
       "      <td>3.00</td>\n",
       "      <td>2780</td>\n",
       "      <td>6000</td>\n",
       "      <td>2.0</td>\n",
       "      <td>0.0</td>\n",
       "      <td>0.0</td>\n",
       "      <td>...</td>\n",
       "      <td>9</td>\n",
       "      <td>2780</td>\n",
       "      <td>0.0</td>\n",
       "      <td>2013</td>\n",
       "      <td>NaN</td>\n",
       "      <td>98065</td>\n",
       "      <td>47.5184</td>\n",
       "      <td>-121.886</td>\n",
       "      <td>2850</td>\n",
       "      <td>6000</td>\n",
       "    </tr>\n",
       "  </tbody>\n",
       "</table>\n",
       "<p>337 rows × 21 columns</p>\n",
       "</div>"
      ],
      "text/plain": [
       "               id        date     price  bedrooms  bathrooms  sqft_living  \\\n",
       "93     6021501535   7/25/2014  430000.0         3       1.50         1580   \n",
       "94     6021501535  12/23/2014  700000.0         3       1.50         1580   \n",
       "324    7520000520    9/5/2014  232000.0         2       1.00         1240   \n",
       "325    7520000520   3/11/2015  240500.0         2       1.00         1240   \n",
       "345    3969300030   7/23/2014  165000.0         4       1.00         1000   \n",
       "346    3969300030  12/29/2014  239900.0         4       1.00         1000   \n",
       "371    2231500030   10/1/2014  315000.0         4       2.25         2180   \n",
       "372    2231500030   3/24/2015  530000.0         4       2.25         2180   \n",
       "717    8820903380   7/28/2014  452000.0         6       2.25         2660   \n",
       "718    8820903380    1/2/2015  730000.0         6       2.25         2660   \n",
       "823     726049190   10/2/2014  287500.0         3       1.00         1810   \n",
       "824     726049190   2/18/2015  431000.0         3       1.00         1810   \n",
       "836    8682262400   7/18/2014  430000.0         2       1.75         1350   \n",
       "837    8682262400   5/13/2015  419950.0         2       1.75         1350   \n",
       "1084   9834200885   7/17/2014  360000.0         4       2.50         2080   \n",
       "1085   9834200885   4/20/2015  550000.0         4       2.50         2080   \n",
       "1127   8062900070    9/9/2014  272000.0         5       1.50         2550   \n",
       "1128   8062900070   2/13/2015  369000.0         5       1.50         2550   \n",
       "1200   1231000510   9/22/2014  263000.0         3       1.75         1490   \n",
       "1201   1231000510    5/4/2015  510000.0         3       1.75         1490   \n",
       "1232   6117501820   6/18/2014  250275.0         2       1.00          790   \n",
       "1233   6117501820   4/28/2015  435000.0         2       1.00          790   \n",
       "1448   2228900270   8/12/2014  215000.0         2       1.00         1010   \n",
       "1449   2228900270   2/12/2015  302000.0         2       1.00         1010   \n",
       "1462   3630120700   5/13/2014  757000.0         3       3.25         3190   \n",
       "1463   3630120700    1/7/2015  765000.0         3       3.25         3190   \n",
       "1574   7888000390   6/27/2014  140000.0         3       1.00         1060   \n",
       "1575   7888000390    4/1/2015  235000.0         3       1.00         1060   \n",
       "1862   2143700830   10/6/2014  207000.0         4       2.50         2100   \n",
       "1863   2143700830   3/12/2015  370000.0         4       2.50         2100   \n",
       "...           ...         ...       ...       ...        ...          ...   \n",
       "17837  6791200120   9/23/2014  480000.0         3       2.25         1820   \n",
       "17838  6791200120    4/7/2015  515000.0         3       2.25         1820   \n",
       "18219  6751300375    7/2/2014  415000.0         3       1.00         1520   \n",
       "18220  6751300375  10/16/2014  522500.0         3       1.00         1520   \n",
       "18549  7657000540    9/2/2014  165000.0         4       1.00         1220   \n",
       "18550  7657000540    3/4/2015  260000.0         4       1.00         1220   \n",
       "18688  3558900590  11/25/2014  360000.0         6       1.75         2230   \n",
       "18689  3558900590   3/24/2015  692500.0         6       1.75         2230   \n",
       "18690  8121100395   6/24/2014  425000.0         4       1.50         1600   \n",
       "18691  8121100395   3/11/2015  645000.0         4       1.50         1600   \n",
       "18747  3332000615  10/20/2014  310000.0         3       1.00         1330   \n",
       "18748  3332000615   4/22/2015  389000.0         3       1.00         1330   \n",
       "19194  1901600090   6/26/2014  359000.0         5       1.75         1940   \n",
       "19195  1901600090   4/26/2015  390000.0         5       1.75         1940   \n",
       "19320  6021500970   5/28/2014  345000.0         2       1.00         1080   \n",
       "19321  6021500970    4/7/2015  874950.0         2       1.00         1080   \n",
       "19536   643300040   11/4/2014  481000.0         4       1.75         1920   \n",
       "19537   643300040   3/13/2015  719521.0         4       1.75         1920   \n",
       "20037  8648900110    5/5/2014  555000.0         3       2.50         1940   \n",
       "20038  8648900110   8/26/2014  555000.0         3       2.50         1940   \n",
       "20164  7853400250    6/4/2014  610000.0         4       3.50         2910   \n",
       "20165  7853400250   2/19/2015  645000.0         4       3.50         2910   \n",
       "20596  2724049222    8/2/2014  163800.0         2       2.50         1000   \n",
       "20597  2724049222   12/1/2014  220000.0         2       2.50         1000   \n",
       "20653  8564860270    7/8/2014  449990.0         4       2.50         2680   \n",
       "20654  8564860270   3/30/2015  502000.0         4       2.50         2680   \n",
       "20763  6300000226   6/26/2014  240000.0         4       1.00         1200   \n",
       "20764  6300000226    5/4/2015  380000.0         4       1.00         1200   \n",
       "21564  7853420110   10/3/2014  594866.0         3       3.00         2780   \n",
       "21565  7853420110    5/4/2015  625000.0         3       3.00         2780   \n",
       "\n",
       "       sqft_lot  floors  waterfront  view     ...      grade  sqft_above  \\\n",
       "93         5000     1.0         0.0   0.0     ...          8        1290   \n",
       "94         5000     1.0         0.0   0.0     ...          8        1290   \n",
       "324       12092     1.0         NaN   0.0     ...          6         960   \n",
       "325       12092     1.0         0.0   0.0     ...          6         960   \n",
       "345        7134     1.0         0.0   0.0     ...          6        1000   \n",
       "346        7134     1.0         0.0   0.0     ...          6        1000   \n",
       "371       10754     1.0         NaN   0.0     ...          7        1100   \n",
       "372       10754     1.0         0.0   0.0     ...          7        1100   \n",
       "717       13579     2.0         0.0   0.0     ...          7        2660   \n",
       "718       13579     2.0         0.0   0.0     ...          7        2660   \n",
       "823        7200     1.0         0.0   0.0     ...          7        1130   \n",
       "824        7200     1.0         NaN   0.0     ...          7        1130   \n",
       "836        4003     1.0         0.0   0.0     ...          8        1350   \n",
       "837        4003     1.0         0.0   0.0     ...          8        1350   \n",
       "1084       4080     1.0         0.0   0.0     ...          7        1040   \n",
       "1085       4080     1.0         0.0   0.0     ...          7        1040   \n",
       "1127       6300     1.0         0.0   0.0     ...          7        1560   \n",
       "1128       6300     1.0         0.0   0.0     ...          7        1560   \n",
       "1200       3800     1.0         0.0   0.0     ...          6         700   \n",
       "1201       3800     1.0         0.0   0.0     ...          6         700   \n",
       "1232      11234     1.0         0.0   0.0     ...          6         790   \n",
       "1233      11234     1.0         0.0   0.0     ...          6         790   \n",
       "1448       6000     1.0         0.0   0.0     ...          6        1010   \n",
       "1449       6000     1.0         NaN   0.0     ...          6        1010   \n",
       "1462       5283     2.0         0.0   0.0     ...          9        3190   \n",
       "1463       5283     2.0         0.0   0.0     ...          9        3190   \n",
       "1574       7473     1.0         0.0   0.0     ...          7        1060   \n",
       "1575       7473     1.0         0.0   0.0     ...          7        1060   \n",
       "1862      19680     1.5         NaN   0.0     ...          6        2100   \n",
       "1863      19680     1.5         0.0   0.0     ...          6        2100   \n",
       "...         ...     ...         ...   ...     ...        ...         ...   \n",
       "17837     13362     1.0         0.0   0.0     ...          8        1220   \n",
       "17838     13362     1.0         0.0   0.0     ...          8        1220   \n",
       "18219      9030     1.0         0.0   0.0     ...          7        1520   \n",
       "18220      9030     1.0         0.0   0.0     ...          7        1520   \n",
       "18549      7980     1.5         0.0   0.0     ...          6        1220   \n",
       "18550      7980     1.5         0.0   0.0     ...          6        1220   \n",
       "18688     10080     1.0         0.0   0.0     ...          7        1390   \n",
       "18689     10080     1.0         0.0   0.0     ...          7        1390   \n",
       "18690      6180     1.5         0.0   0.0     ...          6        1600   \n",
       "18691      6180     1.5         0.0   0.0     ...          6        1600   \n",
       "18747      3740     1.5         0.0   0.0     ...          6        1330   \n",
       "18748      3740     1.5         NaN   0.0     ...          6        1330   \n",
       "19194      6654     1.5         0.0   0.0     ...          7        1940   \n",
       "19195      6654     1.5         NaN   0.0     ...          7        1940   \n",
       "19320      4000     1.0         0.0   0.0     ...          7        1080   \n",
       "19321      4000     1.0         0.0   0.0     ...          7        1080   \n",
       "19536      9500     1.0         0.0   0.0     ...          7        1470   \n",
       "19537      9500     1.0         0.0   0.0     ...          7        1470   \n",
       "20037      3211     2.0         0.0   0.0     ...          8        1940   \n",
       "20038      3211     2.0         0.0   0.0     ...          8        1940   \n",
       "20164      5260     2.0         0.0   0.0     ...          9        2910   \n",
       "20165      5260     2.0         0.0   0.0     ...          9        2910   \n",
       "20596      1092     2.0         NaN   0.0     ...          7         990   \n",
       "20597      1092     2.0         0.0   0.0     ...          7         990   \n",
       "20653      5539     2.0         0.0   0.0     ...          8        2680   \n",
       "20654      5539     2.0         NaN   0.0     ...          8        2680   \n",
       "20763      2171     1.5         0.0   0.0     ...          7        1200   \n",
       "20764      2171     1.5         0.0   0.0     ...          7        1200   \n",
       "21564      6000     2.0         0.0   0.0     ...          9        2780   \n",
       "21565      6000     2.0         0.0   0.0     ...          9        2780   \n",
       "\n",
       "       sqft_basement yr_built  yr_renovated  zipcode      lat     long  \\\n",
       "93             290.0     1939           0.0    98117  47.6870 -122.386   \n",
       "94             290.0     1939           0.0    98117  47.6870 -122.386   \n",
       "324            280.0     1922        1984.0    98146  47.4957 -122.352   \n",
       "325            280.0     1922        1984.0    98146  47.4957 -122.352   \n",
       "345              0.0     1943           0.0    98178  47.4897 -122.240   \n",
       "346              0.0     1943           NaN    98178  47.4897 -122.240   \n",
       "371           1080.0     1954           0.0    98133  47.7711 -122.341   \n",
       "372           1080.0     1954           0.0    98133  47.7711 -122.341   \n",
       "717              0.0     1937        1990.0    98125  47.7142 -122.286   \n",
       "718              0.0     1937        1990.0    98125  47.7142 -122.286   \n",
       "823            680.0     1954           0.0    98133  47.7493 -122.351   \n",
       "824            680.0     1954           0.0    98133  47.7493 -122.351   \n",
       "836              0.0     2004           0.0    98053  47.7176 -122.033   \n",
       "837              0.0     2004           0.0    98053  47.7176 -122.033   \n",
       "1084          1040.0     1962           0.0    98144  47.5720 -122.290   \n",
       "1085          1040.0     1962           0.0    98144  47.5720 -122.290   \n",
       "1127           990.0     1959           0.0    98056  47.5014 -122.172   \n",
       "1128           990.0     1959           NaN    98056  47.5014 -122.172   \n",
       "1200           790.0     1913           0.0    98118  47.5554 -122.270   \n",
       "1201           790.0     1913           0.0    98118  47.5554 -122.270   \n",
       "1232             0.0     1942           0.0    98166  47.4413 -122.349   \n",
       "1233             0.0     1942           0.0    98166  47.4413 -122.349   \n",
       "1448             0.0     1944           NaN    98133  47.7710 -122.353   \n",
       "1449             0.0     1944           0.0    98133  47.7710 -122.353   \n",
       "1462             0.0     2007           0.0    98029  47.5534 -122.002   \n",
       "1463             0.0     2007           0.0    98029  47.5534 -122.002   \n",
       "1574             0.0     1959           0.0    98198  47.3699 -122.309   \n",
       "1575             0.0     1959           NaN    98198  47.3699 -122.309   \n",
       "1862             0.0     1914           0.0    98055  47.4787 -122.230   \n",
       "1863             0.0     1914           0.0    98055  47.4787 -122.230   \n",
       "...              ...      ...           ...      ...      ...      ...   \n",
       "17837          600.0     1977           0.0    98075  47.5898 -122.052   \n",
       "17838          600.0     1977           0.0    98075  47.5898 -122.052   \n",
       "18219            0.0     1956           0.0    98007  47.5870 -122.134   \n",
       "18220            0.0     1956           NaN    98007  47.5870 -122.134   \n",
       "18549            0.0     1944           0.0    98178  47.4924 -122.237   \n",
       "18550            0.0     1944           0.0    98178  47.4924 -122.237   \n",
       "18688          840.0     1969           0.0    98034  47.7089 -122.201   \n",
       "18689          840.0     1969           0.0    98034  47.7089 -122.201   \n",
       "18690            0.0     1946           0.0    98118  47.5681 -122.285   \n",
       "18691            0.0     1946           0.0    98118  47.5681 -122.285   \n",
       "18747            0.0     1903           NaN    98118  47.5502 -122.274   \n",
       "18748            0.0     1903           0.0    98118  47.5502 -122.274   \n",
       "19194            0.0     1953           0.0    98166  47.4663 -122.359   \n",
       "19195            0.0     1953           0.0    98166  47.4663 -122.359   \n",
       "19320            0.0     1940           0.0    98117  47.6902 -122.387   \n",
       "19321              ?     1940           NaN    98117  47.6902 -122.387   \n",
       "19536          450.0     1966           0.0    98006  47.5683 -122.177   \n",
       "19537          450.0     1966           0.0    98006  47.5683 -122.177   \n",
       "20037            0.0     2009           0.0    98027  47.5644 -122.093   \n",
       "20038            0.0     2009           0.0    98027  47.5644 -122.093   \n",
       "20164            0.0     2012           0.0    98065  47.5168 -121.883   \n",
       "20165            0.0     2012           0.0    98065  47.5168 -121.883   \n",
       "20596           10.0     2004           0.0    98118  47.5419 -122.271   \n",
       "20597           10.0     2004           0.0    98118  47.5419 -122.271   \n",
       "20653            0.0     2013           0.0    98045  47.4759 -121.734   \n",
       "20654            0.0     2013           0.0    98045  47.4759 -121.734   \n",
       "20763            0.0     1933           0.0    98133  47.7076 -122.342   \n",
       "20764            0.0     1933           0.0    98133  47.7076 -122.342   \n",
       "21564            0.0     2013           0.0    98065  47.5184 -121.886   \n",
       "21565            0.0     2013           NaN    98065  47.5184 -121.886   \n",
       "\n",
       "       sqft_living15  sqft_lot15  \n",
       "93              1570        4500  \n",
       "94              1570        4500  \n",
       "324             1820        7460  \n",
       "325             1820        7460  \n",
       "345             1020        7138  \n",
       "346             1020        7138  \n",
       "371             1810        6929  \n",
       "372             1810        6929  \n",
       "717             1120        8242  \n",
       "718             1120        8242  \n",
       "823             1810        8100  \n",
       "824             1810        8100  \n",
       "836             1350        4479  \n",
       "837             1350        4479  \n",
       "1084            1340        4080  \n",
       "1085            1340        4080  \n",
       "1127            1380        6300  \n",
       "1128            1380        6300  \n",
       "1200            2180        4000  \n",
       "1201            2180        4000  \n",
       "1232            1930       11871  \n",
       "1233            1930       11871  \n",
       "1448            1610        7313  \n",
       "1449            1610        7313  \n",
       "1462            2950        5198  \n",
       "1463            2950        5198  \n",
       "1574            1320        7912  \n",
       "1575            1320        7912  \n",
       "1862            1340       12300  \n",
       "1863            1340       12300  \n",
       "...              ...         ...  \n",
       "17837           2050       15000  \n",
       "17838           2050       15000  \n",
       "18219           1470        8712  \n",
       "18220           1470        8712  \n",
       "18549           1210        7920  \n",
       "18550           1210        7920  \n",
       "18688           2110        8475  \n",
       "18689           2110        8475  \n",
       "18690           1410        6180  \n",
       "18691           1410        6180  \n",
       "18747           1330        5053  \n",
       "18748           1330        5053  \n",
       "19194           2300        9500  \n",
       "19195           2300        9500  \n",
       "19320           1530        4240  \n",
       "19321           1530        4240  \n",
       "19536           1820       10091  \n",
       "19537           1820       10091  \n",
       "20037           1880        3078  \n",
       "20038           1880        3078  \n",
       "20164           2910        5260  \n",
       "20165           2910        5260  \n",
       "20596           1330        1466  \n",
       "20597           1330        1466  \n",
       "20653           2680        5992  \n",
       "20654           2680        5992  \n",
       "20763           1130        1598  \n",
       "20764           1130        1598  \n",
       "21564           2850        6000  \n",
       "21565           2850        6000  \n",
       "\n",
       "[337 rows x 21 columns]"
      ]
     },
     "execution_count": 17,
     "metadata": {},
     "output_type": "execute_result"
    }
   ],
   "source": [
    "df_cleaned[df_cleaned['id'].duplicated(keep = False)]"
   ]
  },
  {
   "cell_type": "code",
   "execution_count": 18,
   "metadata": {
    "scrolled": true
   },
   "outputs": [
    {
     "data": {
      "text/plain": [
       "(169, 21)"
      ]
     },
     "execution_count": 18,
     "metadata": {},
     "output_type": "execute_result"
    }
   ],
   "source": [
    "df_cleaned[df_cleaned['id'].duplicated()].shape"
   ]
  },
  {
   "cell_type": "markdown",
   "metadata": {},
   "source": [
    "## Distributions"
   ]
  },
  {
   "cell_type": "markdown",
   "metadata": {},
   "source": [
    "### - Distribution of Price"
   ]
  },
  {
   "cell_type": "code",
   "execution_count": 71,
   "metadata": {
    "collapsed": true
   },
   "outputs": [
    {
     "data": {
      "text/plain": [
       "6.750937630226421"
      ]
     },
     "execution_count": 71,
     "metadata": {},
     "output_type": "execute_result"
    }
   ],
   "source": [
    "# % of houses above the threshold\n",
    "(len(df[df['price']>cut_off_price]))/(len(df['price']))*100"
   ]
  },
  {
   "cell_type": "code",
   "execution_count": 82,
   "metadata": {
    "collapsed": true
   },
   "outputs": [
    {
     "data": {
      "image/png": "[encoded data removed]",
      "text/plain": [
       "<Figure size 720x360 with 1 Axes>"
      ]
     },
     "metadata": {
      "needs_background": "light"
     },
     "output_type": "display_data"
    }
   ],
   "source": [
    "df['price'].hist(xlabelsize=10, xrot=45, bins=80, grid=False, figsize=(10,5));"
   ]
  },
  {
   "cell_type": "markdown",
   "metadata": {},
   "source": [
    "### - Distribution across all variables"
   ]
  },
  {
   "cell_type": "code",
   "execution_count": 9,
   "metadata": {
    "collapsed": true
   },
   "outputs": [
    {
     "data": {
      "image/png": "[encoded data removed]",
      "text/plain": [
       "<Figure size 1152x1152 with 20 Axes>"
      ]
     },
     "metadata": {
      "needs_background": "light"
     },
     "output_type": "display_data"
    }
   ],
   "source": [
    "fig = plt.figure(figsize = (16,16))\n",
    "ax = fig.gca()\n",
    "df.hist(ax = ax);"
   ]
  },
  {
   "cell_type": "markdown",
   "metadata": {},
   "source": [
    "<a id=\"Cleaning\"></a>\n",
    "# Data Cleaning:"
   ]
  },
  {
   "cell_type": "markdown",
   "metadata": {},
   "source": [
    "## Dropping Data"
   ]
  },
  {
   "cell_type": "code",
   "execution_count": 99,
   "metadata": {},
   "outputs": [],
   "source": [
    "#creating a new dataframe for cleaned variables \n",
    "df_cleaned = df"
   ]
  },
  {
   "cell_type": "markdown",
   "metadata": {},
   "source": [
    "### - Dropping Price Outliers"
   ]
  },
  {
   "cell_type": "code",
   "execution_count": 101,
   "metadata": {},
   "outputs": [],
   "source": [
    "cut_off_price = 1000000\n",
    "df_cleaned = df_cleaned[df_cleaned['price']<cut_off_price]"
   ]
  },
  {
   "cell_type": "code",
   "execution_count": 102,
   "metadata": {
    "collapsed": true
   },
   "outputs": [
    {
     "data": {
      "image/png": "[encoded data removed]",
      "text/plain": [
       "<Figure size 720x360 with 1 Axes>"
      ]
     },
     "metadata": {
      "needs_background": "light"
     },
     "output_type": "display_data"
    }
   ],
   "source": [
    "df_cleaned['price'].hist(xlabelsize=10, xrot=45, figsize=(10,5), grid=False, bins=10);"
   ]
  },
  {
   "cell_type": "markdown",
   "metadata": {},
   "source": [
    "### - Dropping Extreme Bedrooms Value"
   ]
  },
  {
   "cell_type": "code",
   "execution_count": 103,
   "metadata": {},
   "outputs": [],
   "source": [
    "df_cleaned = df_cleaned[df_cleaned['bedrooms']<33]"
   ]
  },
  {
   "cell_type": "code",
   "execution_count": 105,
   "metadata": {
    "collapsed": true
   },
   "outputs": [
    {
     "data": {
      "text/plain": [
       "11"
      ]
     },
     "execution_count": 105,
     "metadata": {},
     "output_type": "execute_result"
    }
   ],
   "source": [
    "df_cleaned['bedrooms'].max()"
   ]
  },
  {
   "cell_type": "markdown",
   "metadata": {},
   "source": [
    "<a id=\"Dummy-Coding\"></a>\n",
    "## Dummy-Coding Categorical Variables:"
   ]
  },
  {
   "cell_type": "markdown",
   "metadata": {},
   "source": [
    "### - Waterfront"
   ]
  },
  {
   "cell_type": "code",
   "execution_count": 22,
   "metadata": {
    "collapsed": true
   },
   "outputs": [
    {
     "data": {
      "text/plain": [
       "0.0    17831\n",
       "1.0       49\n",
       "Name: waterfront, dtype: int64"
      ]
     },
     "execution_count": 22,
     "metadata": {},
     "output_type": "execute_result"
    }
   ],
   "source": [
    "df_cleaned['waterfront'].value_counts()"
   ]
  },
  {
   "cell_type": "code",
   "execution_count": 23,
   "metadata": {},
   "outputs": [],
   "source": [
    "# replaced the NaN values in 'waterfront' with the value 2.\n",
    "df_cleaned['waterfront'] = df_cleaned['waterfront'].replace(np.nan,2)"
   ]
  },
  {
   "cell_type": "code",
   "execution_count": 24,
   "metadata": {
    "collapsed": true
   },
   "outputs": [
    {
     "data": {
      "text/plain": [
       "(20107, 21)"
      ]
     },
     "execution_count": 24,
     "metadata": {},
     "output_type": "execute_result"
    }
   ],
   "source": [
    "#df_cleaned up to date til this stage\n",
    "df_cleaned.shape"
   ]
  },
  {
   "cell_type": "markdown",
   "metadata": {},
   "source": [
    "<a id=\"cleaning_yr_renovated\"></a>\n",
    "### Examining Missing Data in 'yr_renovated':"
   ]
  },
  {
   "cell_type": "code",
   "execution_count": 25,
   "metadata": {
    "collapsed": true
   },
   "outputs": [
    {
     "data": {
      "text/plain": [
       "0.0       15939\n",
       "2014.0       63\n",
       "2013.0       27\n",
       "2000.0       25\n",
       "2007.0       23\n",
       "Name: yr_renovated, dtype: int64"
      ]
     },
     "execution_count": 25,
     "metadata": {},
     "output_type": "execute_result"
    }
   ],
   "source": [
    "df_cleaned['yr_renovated'].value_counts().head()"
   ]
  },
  {
   "cell_type": "markdown",
   "metadata": {},
   "source": [
    "\n",
    "###### We can see from this that almost 96% of values in this column are '0'.  This column therefore doesn't offer much value\n",
    "###### This is in addition to the NA values shown before\n",
    "###### We can assume its bad data as when we look at duplicates and \"quick rennovation\" idea, the yr_renovated column is often == 0\n"
   ]
  },
  {
   "cell_type": "code",
   "execution_count": null,
   "metadata": {},
   "outputs": [],
   "source": []
  },
  {
   "cell_type": "markdown",
   "metadata": {},
   "source": [
    "## Dealing with NaN values"
   ]
  },
  {
   "cell_type": "markdown",
   "metadata": {},
   "source": [
    "<a id=\"cleaning_sqft_basement\"></a>\n",
    "### Replacing Nan and Extraneous Values in 'sqft_basement':"
   ]
  },
  {
   "cell_type": "code",
   "execution_count": 26,
   "metadata": {},
   "outputs": [
    {
     "data": {
      "text/plain": [
       "4179     ?\n",
       "20929    ?\n",
       "Name: sqft_basement, dtype: object"
      ]
     },
     "execution_count": 26,
     "metadata": {},
     "output_type": "execute_result"
    }
   ],
   "source": [
    "#Check for extraenuous values\n",
    "df_cleaned['sqft_basement'].sort_values(ascending=False).head(2)\n",
    "#displays top two rows - we can see that there are ? values"
   ]
  },
  {
   "cell_type": "code",
   "execution_count": 27,
   "metadata": {},
   "outputs": [],
   "source": [
    "#creating a new temporary dataframe of sqft_basement, that doesn't include nan or '?'\n",
    "df_sqft_no_nan = df_cleaned[(~df_cleaned['sqft_basement'].isna()) & (df_cleaned['sqft_basement'] != '?')]"
   ]
  },
  {
   "cell_type": "code",
   "execution_count": 28,
   "metadata": {},
   "outputs": [
    {
     "data": {
      "text/plain": [
       "1914"
      ]
     },
     "execution_count": 28,
     "metadata": {},
     "output_type": "execute_result"
    }
   ],
   "source": [
    "# How many nan and '?' values have we dropped? \n",
    "len(df) - len(df_sqft_no_nan)"
   ]
  },
  {
   "cell_type": "code",
   "execution_count": 29,
   "metadata": {
    "collapsed": true
   },
   "outputs": [
    {
     "data": {
      "text/plain": [
       "0      0.0\n",
       "1    400.0\n",
       "2      0.0\n",
       "3    910.0\n",
       "4      0.0\n",
       "7      0.0\n",
       "8    730.0\n",
       "9      0.0\n",
       "Name: sqft_basement, dtype: object"
      ]
     },
     "execution_count": 29,
     "metadata": {},
     "output_type": "execute_result"
    }
   ],
   "source": [
    "#can see that nan values in sqft_basement have been dropped from this dataframe\n",
    "#e.g. row/index 6\n",
    "df_sqft_no_nan['sqft_basement'].head(8)"
   ]
  },
  {
   "cell_type": "code",
   "execution_count": 30,
   "metadata": {
    "collapsed": true
   },
   "outputs": [
    {
     "data": {
      "text/plain": [
       "dtype('float64')"
      ]
     },
     "execution_count": 30,
     "metadata": {},
     "output_type": "execute_result"
    }
   ],
   "source": [
    "#convert whole column to int64 format\n",
    "df_sqft_no_nan['sqft_basement'] = df_sqft_no_nan['sqft_basement'].astype(float)\n",
    "\n",
    "df_sqft_no_nan['sqft_basement'].dtype\n",
    "#shows that the df_sqft_no_nan is dtype int64"
   ]
  },
  {
   "cell_type": "code",
   "execution_count": 31,
   "metadata": {
    "collapsed": true
   },
   "outputs": [
    {
     "data": {
      "image/png": "[encoded data removed]",
      "text/plain": [
       "<Figure size 432x288 with 1 Axes>"
      ]
     },
     "metadata": {
      "needs_background": "light"
     },
     "output_type": "display_data"
    }
   ],
   "source": [
    "sns.distplot(df_sqft_no_nan['sqft_basement']);\n",
    "#the vast majority have a value of 0, otherwise the data looks normally distributed"
   ]
  },
  {
   "cell_type": "code",
   "execution_count": 32,
   "metadata": {
    "collapsed": true
   },
   "outputs": [
    {
     "data": {
      "text/plain": [
       "0.0      0.623228\n",
       "600.0    0.010669\n",
       "500.0    0.010415\n",
       "Name: sqft_basement, dtype: float64"
      ]
     },
     "execution_count": 32,
     "metadata": {},
     "output_type": "execute_result"
    }
   ],
   "source": [
    "df_sqft_no_nan['sqft_basement'].value_counts(normalize=True).head(3)\n",
    "# can see that 61% of sqft_basement is 0"
   ]
  },
  {
   "cell_type": "code",
   "execution_count": 33,
   "metadata": {
    "collapsed": true
   },
   "outputs": [
    {
     "data": {
      "text/plain": [
       "count    19683.000000\n",
       "mean       262.514098\n",
       "std        403.504963\n",
       "min          0.000000\n",
       "25%          0.000000\n",
       "50%          0.000000\n",
       "75%        500.000000\n",
       "max       2720.000000\n",
       "Name: sqft_basement, dtype: float64"
      ]
     },
     "execution_count": 33,
     "metadata": {},
     "output_type": "execute_result"
    }
   ],
   "source": [
    "df_sqft_no_nan['sqft_basement'].describe().T\n",
    "# median = 0, mean = 291.9"
   ]
  },
  {
   "cell_type": "code",
   "execution_count": 34,
   "metadata": {
    "collapsed": true
   },
   "outputs": [
    {
     "data": {
      "text/plain": [
       "(20107, 21)"
      ]
     },
     "execution_count": 34,
     "metadata": {},
     "output_type": "execute_result"
    }
   ],
   "source": [
    "df_cleaned.shape"
   ]
  },
  {
   "cell_type": "code",
   "execution_count": null,
   "metadata": {},
   "outputs": [],
   "source": [
    "sqft_basement_median = float(np.median(df_sqft_no_nan['sqft_basement']))\n",
    "\n",
    "df_cleaned = df_cleaned.fillna(sqft_basement_median)\n",
    "df_cleaned = df_cleaned.replace('?',sqft_basement_median)"
   ]
  },
  {
   "cell_type": "markdown",
   "metadata": {},
   "source": [
    "<a id=\"Converting-Datatypes\"></a>\n",
    "## Converting Datatypes:"
   ]
  },
  {
   "cell_type": "markdown",
   "metadata": {},
   "source": [
    "### Converting 'sqft_basement' to float format:"
   ]
  },
  {
   "cell_type": "code",
   "execution_count": 67,
   "metadata": {
    "collapsed": true
   },
   "outputs": [
    {
     "data": {
      "text/plain": [
       "numpy.float64"
      ]
     },
     "execution_count": 67,
     "metadata": {},
     "output_type": "execute_result"
    }
   ],
   "source": [
    "df_cleaned['sqft_basement'] = df_cleaned ['sqft_basement'].astype(float)\n",
    "type(df_cleaned['sqft_basement'][1])"
   ]
  },
  {
   "cell_type": "markdown",
   "metadata": {},
   "source": [
    "<a id=\"datetime\"></a>\n",
    "### Converting 'date' to datetime format:"
   ]
  },
  {
   "cell_type": "code",
   "execution_count": 19,
   "metadata": {
    "collapsed": true
   },
   "outputs": [
    {
     "data": {
      "text/plain": [
       "0   2014-10-13\n",
       "1   2014-12-09\n",
       "2   2015-02-25\n",
       "Name: date, dtype: datetime64[ns]"
      ]
     },
     "execution_count": 19,
     "metadata": {},
     "output_type": "execute_result"
    }
   ],
   "source": [
    "#converted the 'date' column from object to datetime format\n",
    "pd.to_datetime(df_cleaned['date'], format=\"%m/%d/%Y\").head(3)\n"
   ]
  },
  {
   "cell_type": "markdown",
   "metadata": {},
   "source": [
    "# Further Exploring of Data"
   ]
  },
  {
   "cell_type": "markdown",
   "metadata": {},
   "source": [
    "Controllable: factors which homeowners conceivably have the opportunity to improve upon\n",
    "* Size: sqft_basement, sqft_above, sqft_living, sqft_lot\n",
    "* Amenities: bathrooms, bedrooms, floors\n",
    "* Upkeep: grade, condition, yr_renovated"
   ]
  },
  {
   "cell_type": "markdown",
   "metadata": {},
   "source": [
    "## Data Distribution"
   ]
  },
  {
   "cell_type": "code",
   "execution_count": 60,
   "metadata": {},
   "outputs": [],
   "source": [
    "#DFs for plotting different controllable groups\n",
    "df_size = df_cleaned[['sqft_above', 'sqft_lot', 'sqft_living', 'sqft_basement']]\n",
    "df_amenities = df_cleaned[['bathrooms', 'bedrooms', 'floors']]\n",
    "df_upkeep = df_cleaned[['grade', 'condition', 'yr_renovated']]"
   ]
  },
  {
   "cell_type": "markdown",
   "metadata": {},
   "source": [
    "### - Histograms for Size variables"
   ]
  },
  {
   "cell_type": "code",
   "execution_count": 55,
   "metadata": {
    "collapsed": true
   },
   "outputs": [
    {
     "data": {
      "image/png": "[encoded data removed]",
      "text/plain": [
       "<Figure size 1080x1080 with 4 Axes>"
      ]
     },
     "metadata": {
      "needs_background": "light"
     },
     "output_type": "display_data"
    }
   ],
   "source": [
    "df_size.hist(xlabelsize=10, xrot=45, figsize=(15,15), grid=False);"
   ]
  },
  {
   "cell_type": "markdown",
   "metadata": {},
   "source": [
    "### - Histograms for Amenities variables"
   ]
  },
  {
   "cell_type": "code",
   "execution_count": 57,
   "metadata": {
    "collapsed": true
   },
   "outputs": [
    {
     "data": {
      "image/png": "[encoded data removed]",
      "text/plain": [
       "<Figure size 1080x1080 with 4 Axes>"
      ]
     },
     "metadata": {
      "needs_background": "light"
     },
     "output_type": "display_data"
    }
   ],
   "source": [
    "df_amenities.hist(xlabelsize=10, figsize=(15,15), grid=False);"
   ]
  },
  {
   "cell_type": "markdown",
   "metadata": {},
   "source": [
    "### - Histograms for Upkeep variables"
   ]
  },
  {
   "cell_type": "code",
   "execution_count": 59,
   "metadata": {
    "collapsed": true
   },
   "outputs": [
    {
     "data": {
      "image/png": "[encoded data removed]",
      "text/plain": [
       "<Figure size 1080x1080 with 4 Axes>"
      ]
     },
     "metadata": {
      "needs_background": "light"
     },
     "output_type": "display_data"
    }
   ],
   "source": [
    "df_upkeep.hist(xlabelsize=10, figsize=(15,15), grid=False);"
   ]
  },
  {
   "cell_type": "markdown",
   "metadata": {},
   "source": [
    "<a id=\"exploration-summary\"></a>\n",
    "## Summary of Exploratory Findings:"
   ]
  },
  {
   "cell_type": "markdown",
   "metadata": {},
   "source": [
    "#### Normal Distribution:\n",
    "\n",
    "We noticed from looking at the histogram of price that all but 11 houses had a price range of $4 million or less. Since these houses only accounted for 0.05 percent of the total number of records in our dataset, we decided to drop these outliers from our final dataset for our model. Keeping these records in could cause our model to **underfit? \n",
    "\n",
    "#### Ambiguous Data: Several variables are ambiguous in nature, and will require interpretation to our best ability. These include:\n",
    "- waterfront = if the property has a view to the waterfront\n",
    "- view = \"has been viewed\" (scale of 0-4, predominately 0)\n",
    "- condition = overall state of condition (1-5)\n",
    "- grade = king's grading system (only 3-13 shown, might be on a larger range)\n",
    "- sqft_living15/lot15 = sqft of living/lot area of 15 closest neighbors\n",
    "\n",
    "#### Converting Missing/Extraneous Values: Several variables have missing or extraneous values that will need to be converted in order to be entered into our regression model"
   ]
  },
  {
   "cell_type": "markdown",
   "metadata": {},
   "source": [
    "# Modeling Decisions:"
   ]
  },
  {
   "cell_type": "markdown",
   "metadata": {},
   "source": [
    "## Checking For Normal Distributions:"
   ]
  },
  {
   "cell_type": "markdown",
   "metadata": {},
   "source": [
    "## Checking Linear Relationship Assumption:"
   ]
  },
  {
   "cell_type": "code",
   "execution_count": null,
   "metadata": {},
   "outputs": [],
   "source": [
    "fig, axes = plt.subplots(nrows=1, ncols=7, figsize=(16,3))\n",
    "\n",
    "for xcol, ax in zip(['sqft_living', 'sqft_lot', 'sqft_above', 'sqft_basement', 'bathrooms', 'bedrooms','floors'], axes):\n",
    "    df_cleaned.plot(kind='scatter', x=xcol, y='price', ax=ax, alpha=0.4, color='b')"
   ]
  },
  {
   "cell_type": "code",
   "execution_count": null,
   "metadata": {
    "scrolled": true
   },
   "outputs": [],
   "source": [
    "#see previous comments in categorizing zipcode; decision to use sq_ft_!5 instead\n",
    "#scatter to see if there's extremes of zipcode vs price\n",
    "#get the mean price of each property in each zipcode category and plot mean price vs zipcode\n"
   ]
  },
  {
   "cell_type": "markdown",
   "metadata": {},
   "source": [
    "## Correlation Matrices:"
   ]
  },
  {
   "cell_type": "markdown",
   "metadata": {},
   "source": [
    "### Investigating Top Predictors of Price:"
   ]
  },
  {
   "cell_type": "code",
   "execution_count": null,
   "metadata": {},
   "outputs": [],
   "source": [
    "#df_cleaned.corr()[['price']].sort_values(by=['price'], ascending=False)\n",
    "    "
   ]
  },
  {
   "cell_type": "code",
   "execution_count": null,
   "metadata": {},
   "outputs": [],
   "source": [
    "#Plot a heatmap to see where which variables are strongly correlated with target \"price\"\n",
    "plt.figure(figsize = (10, 10))\n",
    "sns.heatmap(df.corr()[['price']].sort_values(by=['price'],ascending=False), vmin = -1, vmax = 1, cmap = 'coolwarm', annot=True)\n",
    "#from the heatmap below we can see that there are no strong negative correlations, but there are several positive correlations:\n",
    "#bathrooms, sqft_living, grade, sqft_above, sqft_living15"
   ]
  },
  {
   "cell_type": "markdown",
   "metadata": {},
   "source": [
    "## Investigating Multicollinearity:"
   ]
  },
  {
   "cell_type": "code",
   "execution_count": null,
   "metadata": {},
   "outputs": [],
   "source": [
    "#no correlations above .90 - can assume independence of IVs\n",
    "#df_cleaned.corr().round(2)\n"
   ]
  },
  {
   "cell_type": "code",
   "execution_count": null,
   "metadata": {},
   "outputs": [],
   "source": [
    "# come back and add a filter for correlation table so zip codes are not displayed\n",
    "#checking for correlations of .90 or above between IVs \n",
    "plt.figure(figsize = (15, 15))\n",
    "sns.heatmap(df_cleaned.corr(), vmin = -1, vmax = 1, cmap = 'coolwarm', annot = True);\n"
   ]
  },
  {
   "cell_type": "markdown",
   "metadata": {},
   "source": [
    "\n",
    "# Building a MLR Model:  \n",
    "\n",
    "### \"How Can Homeowners Improve The Selling Price of their Home?\""
   ]
  },
  {
   "cell_type": "markdown",
   "metadata": {},
   "source": [
    "####  In order to answer this question, we first categorized the variables in our dataset into two categories: \n",
    "\n",
    "#### Uncontrollable: factors which are beyond the homeowners' control\n",
    "- Geographic: latitude, longitude, zipcode, sqft_living15, waterfront\n",
    "\n",
    "#### Controllable: factors which homeowners conceivably have the opportunity to improve upon\n",
    "- Size: sqft_basement, sqft_above, sqft_living, sqft_lot\n",
    "- Amenities: bathrooms, bedrooms, floors\n",
    "- Upkeep: grade, condition, yr_renovated\n",
    "\n",
    "#### Based on examining correlation coefficients and our understanding of the variables' relationships to one another we decided to do use a stepwise approach to building an optimal regression model."
   ]
  },
  {
   "cell_type": "code",
   "execution_count": null,
   "metadata": {},
   "outputs": [],
   "source": [
    "#displaying full list of variables\n",
    "df_cleaned.columns"
   ]
  },
  {
   "cell_type": "markdown",
   "metadata": {},
   "source": [
    "## Baseline Model "
   ]
  },
  {
   "cell_type": "code",
   "execution_count": null,
   "metadata": {},
   "outputs": [],
   "source": [
    "#calculating baseline model R^2 = 0.0\n",
    "import sklearn as sk\n",
    "df_cleaned['price_pred'] = df_cleaned['price'].mean()\n",
    "sk.metrics.r2_score(df_cleaned['price'],df_cleaned['price_pred'])"
   ]
  },
  {
   "cell_type": "markdown",
   "metadata": {},
   "source": [
    "## Model 0: Baseline Model"
   ]
  },
  {
   "cell_type": "code",
   "execution_count": null,
   "metadata": {},
   "outputs": [],
   "source": [
    "X0 = df_cleaned[['price_pred']]\n",
    "y = df_cleaned[['price']]\n",
    "\n",
    "model0 = sm.OLS(y, X0).fit()\n",
    "model0.summary()"
   ]
  },
  {
   "cell_type": "markdown",
   "metadata": {},
   "source": [
    "## Model 1: sqft_living"
   ]
  },
  {
   "cell_type": "code",
   "execution_count": null,
   "metadata": {},
   "outputs": [],
   "source": [
    "# setting our dependent and independent variables for Model 1\n",
    "X1 = df_cleaned[['sqft_living']]\n",
    "y = df_cleaned[['price']]\n",
    "\n",
    "# Displaying summary of Model 1 OLS\n",
    "model1 = sm.OLS(y, X1).fit()\n",
    "model1.summary()"
   ]
  },
  {
   "cell_type": "code",
   "execution_count": null,
   "metadata": {},
   "outputs": [],
   "source": [
    "# OLD CODE (DIDNT HAVE LABELS OF PREDICTORS)\n",
    "# predictors = np.asarray(X)  #setting what the predictors are \n",
    "# predictors_int = sm.add_constant(predictors) #\n",
    "# model_1 = sm.OLS(y, predictors_int).fit()    \n",
    "# model_1.summary()"
   ]
  },
  {
   "cell_type": "markdown",
   "metadata": {},
   "source": [
    "## Model 2:  sqft_living, grade"
   ]
  },
  {
   "cell_type": "code",
   "execution_count": null,
   "metadata": {},
   "outputs": [],
   "source": [
    "X2 = df_cleaned[['sqft_living','grade']]\n",
    "y = df_cleaned[['price']]\n",
    "\n",
    "model2 = sm.OLS(y, X2).fit()\n",
    "model2.summary()\n",
    "\n",
    "# X2 = df_cleaned[['sqft_living','grade']]\n",
    "# y = df_cleaned[['price']]\n",
    "\n",
    "# predictors = np.asarray(X)  \n",
    "# predictors_int = sm.add_constant(predictors) \n",
    "\n",
    "# model = sm.OLS(y, predictors_int).fit()    \n",
    "# model.summary() "
   ]
  },
  {
   "cell_type": "markdown",
   "metadata": {},
   "source": [
    "## Model 3: sqft_living, grade, bathrooms"
   ]
  },
  {
   "cell_type": "code",
   "execution_count": null,
   "metadata": {
    "scrolled": true
   },
   "outputs": [],
   "source": [
    "X3 = df_cleaned[['sqft_living', 'grade','bathrooms']]\n",
    "y = df_cleaned[['price']]\n",
    "\n",
    "model3 = sm.OLS(y, X3).fit()\n",
    "model3.summary()\n",
    "#coef of bathrooms is -ve!!"
   ]
  },
  {
   "cell_type": "code",
   "execution_count": null,
   "metadata": {},
   "outputs": [],
   "source": []
  },
  {
   "cell_type": "code",
   "execution_count": null,
   "metadata": {},
   "outputs": [],
   "source": [
    "# NUMBERS SEEM VERY OFF. ALSO NUMBERS DONT AGREE WITH ABOVE, BUT SHOULDNT THEY BE THE SAME?\n",
    "\n",
    "X3 = df_cleaned[['sqft_living', 'grade','bathrooms']]\n",
    "y = df_cleaned[['price']]\n",
    "\n",
    "predictors = np.asarray(X3)  #setting what the predictors are \n",
    "predictors_int = sm.add_constant(predictors) #\n",
    "model = sm.OLS(y, predictors_int).fit()    \n",
    "model.summary() #look at OLS stats documentation to see if we can pull out coefficients"
   ]
  },
  {
   "cell_type": "markdown",
   "metadata": {},
   "source": [
    "##### Because the relationship between bathrooms and price was found to be negative (which doesn't make logical sense), we decided to drop bathrooms from the model and add another feature (bedrooms) into the model 4 below"
   ]
  },
  {
   "cell_type": "markdown",
   "metadata": {},
   "source": [
    "## Model 4:  sqft_living, grade, bedrooms"
   ]
  },
  {
   "cell_type": "code",
   "execution_count": null,
   "metadata": {},
   "outputs": [],
   "source": [
    "X4 = df_cleaned[['sqft_living','grade','bedrooms']]\n",
    "y = df_cleaned[['price']]\n",
    "\n",
    "model4 = sm.OLS(y, X4).fit()\n",
    "model4.summary()\n",
    "\n",
    "#!Bedrooms coef very -ve\n",
    "\n",
    "# predictors = np.asarray(X)  #setting what the predictors are \n",
    "# predictors_int = sm.add_constant(predictors) #\n",
    "# model = sm.OLS(y, predictors_int).fit()    \n",
    "# model.summary() #look at OLS stats documentation to see if we can pull out coefficients"
   ]
  },
  {
   "cell_type": "markdown",
   "metadata": {},
   "source": [
    "##### Because the relationship between bedrooms and price was found to be negative (which doesn't make logical sense), we decided to drop bedrooms from the model and add another feature (floors) into the model 5 below"
   ]
  },
  {
   "cell_type": "markdown",
   "metadata": {},
   "source": [
    "## Model 5:  sqft_living, grade, floors"
   ]
  },
  {
   "cell_type": "code",
   "execution_count": null,
   "metadata": {},
   "outputs": [],
   "source": [
    "X5 = df_cleaned[['sqft_living','grade','floors']]\n",
    "y = df_cleaned[['price']]\n",
    "\n",
    "model5 = sm.OLS(y, X5).fit()\n",
    "model5.summary()\n",
    "\n",
    "#!Floors coef -ve\n",
    "\n",
    "# predictors = np.asarray(X)  #setting what the predictors are \n",
    "# predictors_int = sm.add_constant(predictors) #\n",
    "# model = sm.OLS(y, predictors_int).fit()    \n",
    "# model.summary() #look at OLS stats documentation to see if we can pull out coefficients"
   ]
  },
  {
   "cell_type": "markdown",
   "metadata": {},
   "source": [
    "## Model 6: note: explored with diff. variable iterations, none of which worked. Not including in chart."
   ]
  },
  {
   "cell_type": "code",
   "execution_count": null,
   "metadata": {},
   "outputs": [],
   "source": [
    "X6 = df_cleaned[['sqft_living','grade','sqft_lot']]\n",
    "y = df_cleaned[['price']]\n",
    "\n",
    "model6 = sm.OLS(y, X6).fit()\n",
    "model6.summary()\n",
    "\n",
    "#sqft_lot seems to have no impact.  (very small coefficient)\n",
    "\n",
    "# predictors = np.asarray(X)  #setting what the predictors are \n",
    "# predictors_int = sm.add_constant(predictors) #\n",
    "# model = sm.OLS(y, predictors_int).fit()    \n",
    "# model.summary() #look at OLS stats documentation to see if we can pull out coefficients"
   ]
  },
  {
   "cell_type": "markdown",
   "metadata": {},
   "source": [
    "## Model 7:  sqft_living, grade, floors, bathrooms, bedrooms, sqft_lot"
   ]
  },
  {
   "cell_type": "code",
   "execution_count": null,
   "metadata": {},
   "outputs": [],
   "source": [
    "X7 = df_cleaned[['sqft_living','grade', 'floors', 'bathrooms', 'bedrooms', 'sqft_lot']]\n",
    "y = df_cleaned[['price']]\n",
    "\n",
    "model7 = sm.OLS(y, X7).fit()\n",
    "model7.summary()\n",
    "\n",
    "#highest R^2 BUT\n",
    "# p value of bathrooms is too high?\n",
    "# coef of bathrooms is MASSIVELY -ve\n",
    "# coef of sqft_lot still very low"
   ]
  },
  {
   "cell_type": "markdown",
   "metadata": {},
   "source": [
    "## Model 8:  sqft_living, grade, bathrooms, "
   ]
  },
  {
   "cell_type": "code",
   "execution_count": null,
   "metadata": {},
   "outputs": [],
   "source": [
    "X8 = df_cleaned[['sqft_living','grade', 'bathrooms']]\n",
    "y = df_cleaned[['price']]\n",
    "\n",
    "model8 = sm.OLS(y, X8).fit()\n",
    "model8.summary()"
   ]
  },
  {
   "cell_type": "markdown",
   "metadata": {},
   "source": [
    "## Model 9:  sqft_above, sqft_ basement, grade, floors, bathrooms, bedrooms"
   ]
  },
  {
   "cell_type": "code",
   "execution_count": null,
   "metadata": {
    "scrolled": true
   },
   "outputs": [],
   "source": [
    "X9 = df_cleaned[['sqft_above', 'sqft_basement', 'grade', 'floors', 'bathrooms', 'bedrooms']]\n",
    "y = df_cleaned[['price']]\n",
    "\n",
    "model9 = sm.OLS(y, X9).fit()\n",
    "model9.summary()"
   ]
  },
  {
   "cell_type": "markdown",
   "metadata": {},
   "source": [
    "## Training and Testing Our Model Using K-Fold Cross-Validation:"
   ]
  },
  {
   "cell_type": "markdown",
   "metadata": {},
   "source": [
    "### Decided to test Model 2 with sqft_living and grade, based on R^2 and coefficents"
   ]
  },
  {
   "cell_type": "code",
   "execution_count": null,
   "metadata": {},
   "outputs": [],
   "source": [
    "X = df_cleaned[['sqft_living','grade']]\n",
    "y = df_cleaned[['price']]\n",
    "\n",
    "predictors = np.asarray(X)  \n",
    "predictors_int = sm.add_constant(predictors) \n",
    "model = sm.OLS(y, predictors_int).fit()    \n",
    "model.summary() "
   ]
  },
  {
   "cell_type": "code",
   "execution_count": null,
   "metadata": {},
   "outputs": [],
   "source": [
    "#setting up the train/test splits for cross-validating our model\n",
    "X_train, X_test, y_train, y_test = train_test_split(X, y, test_size = 0.20)"
   ]
  },
  {
   "cell_type": "code",
   "execution_count": null,
   "metadata": {
    "scrolled": true
   },
   "outputs": [],
   "source": [
    "#preview of our train test split\n",
    "print(len(X_train), len(X_test), len(y_train), len(y_test))"
   ]
  },
  {
   "cell_type": "code",
   "execution_count": null,
   "metadata": {},
   "outputs": [],
   "source": [
    "#Fit the model and apply the model to the make test set predictions \n",
    "linreg.fit(X_train, y_train)\n",
    "y_hat_test = linreg.predict(X_test)"
   ]
  },
  {
   "cell_type": "code",
   "execution_count": null,
   "metadata": {},
   "outputs": [],
   "source": [
    "#Calculate the residuals and the mean squared error\n",
    "from sklearn.metrics import mean_squared_error\n",
    "test_residuals = y_hat_test - y_test\n",
    "\n",
    "test_mse = mean_squared_error(y_test, y_hat_test)**0.5\n",
    "test_mse  \n",
    "#test_mse results indicate our residuals are, on average, a distance of\n",
    "#$240,450 from the fitted line\n"
   ]
  },
  {
   "cell_type": "code",
   "execution_count": null,
   "metadata": {},
   "outputs": [],
   "source": [
    "#Residual Plot:\n",
    "#qq plots show \n",
    "residuals = model.resid\n",
    "fig = sm.qqplot(residuals, fit=True, line='45')\n",
    "plt.show()"
   ]
  },
  {
   "cell_type": "code",
   "execution_count": null,
   "metadata": {
    "scrolled": false
   },
   "outputs": [],
   "source": [
    "residuals.hist(bins=200)\n"
   ]
  },
  {
   "cell_type": "markdown",
   "metadata": {},
   "source": [
    "# Summary of Findings"
   ]
  }
 ],
 "metadata": {
  "kernelspec": {
   "display_name": "Python 3",
   "language": "python",
   "name": "python3"
  },
  "language_info": {
   "codemirror_mode": {
    "name": "ipython",
    "version": 3
   },
   "file_extension": ".py",
   "mimetype": "text/x-python",
   "name": "python",
   "nbconvert_exporter": "python",
   "pygments_lexer": "ipython3",
   "version": "3.7.1"
  }
 },
 "nbformat": 4,
 "nbformat_minor": 2
}

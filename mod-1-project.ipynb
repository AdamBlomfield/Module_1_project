{
 "cells": [
  {
   "cell_type": "markdown",
   "metadata": {},
   "source": [
    "# Module 1 Final Project\n",
    "\n",
    "***\n",
    "\n",
    "## Module 1 Summary\n",
    "\n",
    "Congratulations! You've survived module 1 and learned the basics of Python, Pandas, and even some model building! Now, you are ready to show off your skills on an actual dataset!\n",
    "\n"
   ]
  },
  {
   "cell_type": "markdown",
   "metadata": {},
   "source": [
    "We'll review all of the guidelines and specifications for the final project for Module 1.\n",
    "\n",
    "### Objectives\n",
    "You will be able to:\n",
    "\n",
    "- Describe all required aspects of the final project for Module 1\n",
    "- Describe all required deliverables\n",
    "- Describe what constitutes a successful project\n",
    "- Describe what the experience of the project review should be like\n",
    "\n",
    "**Final Project Summary**<br>\n",
    "You've made it all the way through the first module of this course - take a minute to celebrate your awesomeness!\n",
    "\n",
    "![awesome](https://media1.giphy.com/media/3ohzdIuqJoo8QdKlnW/giphy.gif?cid=790b76115ccc40ec504d73473257b0c8&rid=giphy.gif)\n"
   ]
  },
  {
   "cell_type": "markdown",
   "metadata": {},
   "source": [
    "All that remains in Module 1 is to put our newfound data science skills to use with a final project! \n",
    "- You should expect this project to take between 20 and 30 hours of solid, focused effort. \n",
    "- If you're done way quicker, go back and dig in deeper or try some of the optional \"level up\" suggestions\n",
    "- If you're worried that you're going to get to 10 hrs and still not even have the data imported, reach out to a coach or instructor ASAP to get some help!"
   ]
  },
  {
   "cell_type": "markdown",
   "metadata": {},
   "source": [
    "### This project is in **groups**\n",
    "\n",
    "* Group A: Moussa + Bassel\n",
    "* Group B: Manisha + Adam\n",
    "* Group C: Emefa + Kelly\n",
    "* Group D: Pablo + Tim\n",
    "* Group E: Mark + Brahm\n",
    "* Group F: Helen + Linh\n",
    "* Group G: Ryan + Jon\n",
    "* Group H: Llewelyn + Filis + Angel"
   ]
  },
  {
   "cell_type": "markdown",
   "metadata": {},
   "source": [
    "### Very specific project objectives per deliverable:\n",
    "\n",
    "**In a jupyter notebook students will be able to:**\n",
    "- Use Python 3.7 to produce reproducible and readable code\t\n",
    "  - Identify and apply the correct python syntax\n",
    "-\tWrite and use custom functions to automate the data scrubbing process\n",
    "  -\tIdentify and handle missing values\n",
    "  -\tIdentify distributions of variables\n",
    "  -\tIdentify outliers and manage them appropriately\n",
    "  - All functions have docstrings that act as professional-quality documentation\n",
    "- You pose at least **3 meaningful questions** and answer them through EDA. These questions should be well labeled and easy to identify inside the notebook.\n",
    "- Use `matplotlib` or `seaborn` to create four quality data visualizations, where:\t\n",
    "  -\tInteresting relationships between variables are explored\n",
    "  -\tEach graph provides an answer to an analysis question\n",
    "  -\tBest practices graphing visualization practices are used\t\t\n",
    "- Build a **supervised predictive mode** to predict housing price, using multiple regression:\t\n",
    "  - Use an iterative approach to modeling\n",
    "  - Record changes made to data and methods\n",
    "  - Justify choices in notes\n",
    "  - Details parameters in each iteration\n",
    "  - Refine model by excluding any predictors with coefficient p-values greater than 0.05\n",
    "  -\tUse other relevant metrics to assess and improve model performance\n",
    "  -\tAssess the model’s ability to meet regression assumptions\n",
    "  -\tSelect at least three coefficients from the final model and explain their impact on the price of a house in this dataset\n",
    "- Use **Markdown cells** to synthesize the steps and findings of analysis into a narrative, where students:\t\n",
    "\t- Describe and defend their choice of three meaningful analysis questions\n",
    "\t- Connect how chosen analysis questions to business importance\n",
    "\t- Answer questions through EDA\n",
    "- Document reasoning and justification for:\t\n",
    "  - Data cleaning options you performed\n",
    "  - Chosen methods or libraries\n",
    "  - Choice of visualizations and did you learn from each of them?\n",
    "  - Selection of features as predictors\n",
    "  - Interpret the results and implications of:\n",
    "    - Each visualization connected to each question\n",
    "    - Analysis findings\n",
    "- Identify potential weaknesses in data that could invalidate results\t\n",
    "- Describe factors that contribute to the predictive quality of model results\t\n",
    "-\tSynthesize steps and findings of analysis into a narrative\t\n",
    "-\tTarget their narrative to a technical audience\t\n",
    "\t\t\n",
    "**Use Google Slides to create a 5 to 10-slide presentation:**\n",
    "\n",
    "**slide content**<br>\n",
    "Requirements:\n",
    "- Apply consistent and effective formatting to create a “professional” appearing deck\t\n",
    "- Write an abbreviated high-level overview of methodology\t\n",
    "- Justify at least 2 concrete recommendations for how to improve the selling price of a home, include exported visualizations from analysis\t\n",
    "- Target the presentation to a non-technical audience, avoid jargon\t\n",
    "- Take no more than 5 minutes to present\n",
    "- Convert slides to a pdf file\t\n",
    "\n",
    "**presentation**<br>\n",
    "Be prepared to answer questions such as:\n",
    "* \"how did you pick the question(s) that you did?\"\n",
    "* \"why are these questions important from a business perspective?\"\n",
    "* \"how did you decide on the data cleaning options you performed?\"\n",
    "* \"why did you choose a given method or library?\"\n",
    "* \"why did you select those visualizations and what did you learn from each of them?\"\n",
    "* \"why did you pick those features as predictors?\"\n",
    "* \"how would you interpret the results?\"\n",
    "* \"how confident are you in the predictive quality of the results?\"\n",
    "* \"what are some of the things that could cause the results to be wrong?\"\n",
    "\t\t\n",
    "**Use git to track their updates and push their final Jupyter notebook to Github**\t\t\n",
    "- Create a github account if they do not already have one\t\t\n",
    "- Create a git repo on their local machine\t\t\n",
    "- Use terminal as interface to git to clone, add, commit, pull, and push changes to github repo\t\t\t"
   ]
  },
  {
   "cell_type": "markdown",
   "metadata": {},
   "source": [
    "***"
   ]
  },
  {
   "cell_type": "markdown",
   "metadata": {},
   "source": [
    "## The data Set\n",
    "\n",
    "For this project, you'll be working with the King County House Sales dataset. We've modified the dataset to make it a bit more fun and challenging. The dataset can be found in the file \"kc_house_data.csv\", in the repo in the project description on learn.co.\n",
    "\n",
    "The description of the column names can be found in the `column_names.md` file in this repository. As with most real-world data sets, the column names are not perfectly described, so you'll have to do some research or use your best judgment if you have questions relating to what the data means.\n",
    "\n",
    "You'll clean, explore, and model this dataset with a multivariate linear regression to predict the sale price of houses as accurately as possible."
   ]
  },
  {
   "cell_type": "markdown",
   "metadata": {},
   "source": [
    "***\n",
    "# Timelines\n",
    "\n",
    "**5/3 Friday** - Project Assignment <br>\n",
    " - schedule Monday check in with coach\n",
    " \n",
    "**5/6 Monday** - Check in with coaches <br>\n",
    " - review data cleaning\n",
    " - provide url of project repository\n",
    " - review at least one table/chart\n",
    " - have tried at least one version of model\n",
    " \n",
    "**5/7 Tuesday** - Demo presentation with feedback from instructors <br>\n",
    " - present to class\n",
    " - have polished draft of deck completed\n",
    " - have polished version of jupyter notebook completed\n",
    " \n",
    "**5/8 Wednesday** -  afternoon project presentation"
   ]
  },
  {
   "cell_type": "markdown",
   "metadata": {},
   "source": [
    "## Project Review \n",
    "\n",
    "If any requirements are missing or if significant gaps in understanding are uncovered, be prepared to do one or all of the following:\n",
    "\n",
    "Perform additional data cleanup, visualization, feature selection, modeling and/or model validation <br>\n",
    "Submit an improved version<br>\n",
    "Meet again for another Project Presentation<br>\n",
    "\n",
    "#### What won't happen:\n",
    "\n",
    "You won't be yelled at, belittled, or scolded<br>\n",
    "You won't be put on the spot without support<br>\n",
    "There's nothing you can do to instantly fail or blow it<br>"
   ]
  },
  {
   "cell_type": "markdown",
   "metadata": {},
   "source": [
    "### Summary\n",
    "\n",
    "The end of module projects and presentations are a critical part of the program. They give you a chance to both bring together all the skills you've learned into realistic projects and to practice key \"business judgement\" and communication skills that you otherwise might not get as much practice with.\n",
    "\n",
    "The projects are serious and important. They are not graded, but they can be passed and they can be failed. Take the project seriously, put the time in, ask for help from your peers or instructors early and often if you need it, and treat the review as a job interview and you'll do great. We're rooting for you to succeed and we're only going to ask you to take a present again if we believe that you need to. We'll also provide open and honest feedback so you can improve as quickly and efficiently as possible.\n",
    "\n",
    "Finally, this is your first project. We don't expect you to remember all of the terms or to get all of the answers right. If in doubt, be honest. If you don't know something, say so. If you can't remember it, just say so. It's very unusual for someone to complete a project presentation without being asked a question they're unsure of, we know you might be nervous which may affect your performance. Just be as honest, precise and focused as you can be, and you'll do great!"
   ]
  }
 ],
 "metadata": {
  "kernelspec": {
   "display_name": "Python 3",
   "language": "python",
   "name": "python3"
  },
  "language_info": {
   "codemirror_mode": {
    "name": "ipython",
    "version": 3
   },
   "file_extension": ".py",
   "mimetype": "text/x-python",
   "name": "python",
   "nbconvert_exporter": "python",
   "pygments_lexer": "ipython3",
   "version": "3.7.0"
  }
 },
 "nbformat": 4,
 "nbformat_minor": 2
}

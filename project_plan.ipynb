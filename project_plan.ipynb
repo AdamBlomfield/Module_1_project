{
 "cells": [
  {
   "cell_type": "markdown",
   "metadata": {},
   "source": [
    "# Requirements:\n",
    "- Functions should\n",
    "    - Custom functions to automate the data scrubbing process\n",
    "        - Identify and handle missing values\n",
    "        - Identify distributions of variables\n",
    "        - Identify outliers and manage them appropriately\n",
    "        - Docstrings that act as professional-quality documentation\n",
    "\n",
    "\n",
    "- 3 Questions\n",
    "    - Meaningful Qs that are answered through EDA. \n",
    "    - Must be well labeled and easily identified in notebook\n",
    "\n",
    "\n",
    "- 4 Data Visualizations\n",
    "    - Matplotlib & seaborn\n",
    "        - Interesting relationships between variables explored\n",
    "        - Each graph provides an answer to an analysis question\n",
    "        - Best practices graphing visualization practices are used\n",
    "        \n",
    "     \n",
    "- Supervised predictive model\n",
    "    - predict house prices with multiple regression\n",
    "        - (see mod-1-project for more)\n",
    "        "
   ]
  },
  {
   "cell_type": "markdown",
   "metadata": {},
   "source": [
    "# Plan:\n",
    "- 3 versions of project \n",
    "     1. our rough work, with imported data, assessing what data needs to be used/changed etc\n",
    "     2. creating functions\n",
    "     3. storing the functions in another notebook and importing them to make it super clean\n",
    "     \n"
   ]
  },
  {
   "cell_type": "code",
   "execution_count": null,
   "metadata": {},
   "outputs": [],
   "source": []
  }
 ],
 "metadata": {
  "kernelspec": {
   "display_name": "Python 3",
   "language": "python",
   "name": "python3"
  },
  "language_info": {
   "codemirror_mode": {
    "name": "ipython",
    "version": 3
   },
   "file_extension": ".py",
   "mimetype": "text/x-python",
   "name": "python",
   "nbconvert_exporter": "python",
   "pygments_lexer": "ipython3",
   "version": "3.7.1"
  }
 },
 "nbformat": 4,
 "nbformat_minor": 2
}
